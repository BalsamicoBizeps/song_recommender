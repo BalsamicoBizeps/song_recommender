{
 "cells": [
  {
   "cell_type": "code",
   "execution_count": 1,
   "id": "59ad3f63-f41f-4560-9c1f-766ccb42ae2c",
   "metadata": {
    "scrolled": true
   },
   "outputs": [],
   "source": [
    "import requests\n",
    "import pandas as pd\n",
    "import numpy\n",
    "import pprint\n",
    "from bs4 import BeautifulSoup"
   ]
  },
  {
   "cell_type": "code",
   "execution_count": 2,
   "id": "f4034e46-e6da-40cd-bc2d-7117908f894e",
   "metadata": {},
   "outputs": [
    {
     "data": {
      "text/plain": [
       "<Response [200]>"
      ]
     },
     "execution_count": 2,
     "metadata": {},
     "output_type": "execute_result"
    }
   ],
   "source": [
    "url = \"https://www.billboard.com/charts/hot-100/\"\n",
    "response = requests.get(url)\n",
    "response"
   ]
  },
  {
   "cell_type": "code",
   "execution_count": 3,
   "id": "a8aa0f05-9efa-46af-8bed-0be3738f995c",
   "metadata": {},
   "outputs": [],
   "source": [
    "soup = BeautifulSoup(response.content, \"html.parser\")"
   ]
  },
  {
   "cell_type": "markdown",
   "id": "4676e1bb-b732-43d1-a31d-937f4db59608",
   "metadata": {
    "jp-MarkdownHeadingCollapsed": true
   },
   "source": [
    "#### Scraping"
   ]
  },
  {
   "cell_type": "code",
   "execution_count": 10,
   "id": "e543770d-7741-4d32-8ad9-771d1a9ad170",
   "metadata": {
    "scrolled": true
   },
   "outputs": [
    {
     "data": {
      "text/html": [
       "<div>\n",
       "<style scoped>\n",
       "    .dataframe tbody tr th:only-of-type {\n",
       "        vertical-align: middle;\n",
       "    }\n",
       "\n",
       "    .dataframe tbody tr th {\n",
       "        vertical-align: top;\n",
       "    }\n",
       "\n",
       "    .dataframe thead th {\n",
       "        text-align: right;\n",
       "    }\n",
       "</style>\n",
       "<table border=\"1\" class=\"dataframe\">\n",
       "  <thead>\n",
       "    <tr style=\"text-align: right;\">\n",
       "      <th></th>\n",
       "      <th>song</th>\n",
       "      <th>artist</th>\n",
       "    </tr>\n",
       "  </thead>\n",
       "  <tbody>\n",
       "    <tr>\n",
       "      <th>0</th>\n",
       "      <td>A Bar Song (Tipsy)</td>\n",
       "      <td>Shaboozey</td>\n",
       "    </tr>\n",
       "    <tr>\n",
       "      <th>1</th>\n",
       "      <td>Die With A Smile</td>\n",
       "      <td>Lady Gaga &amp; Bruno Mars</td>\n",
       "    </tr>\n",
       "    <tr>\n",
       "      <th>2</th>\n",
       "      <td>Birds Of A Feather</td>\n",
       "      <td>Billie Eilish</td>\n",
       "    </tr>\n",
       "    <tr>\n",
       "      <th>3</th>\n",
       "      <td>Espresso</td>\n",
       "      <td>Sabrina Carpenter</td>\n",
       "    </tr>\n",
       "    <tr>\n",
       "      <th>4</th>\n",
       "      <td>Lose Control</td>\n",
       "      <td>Teddy Swims</td>\n",
       "    </tr>\n",
       "    <tr>\n",
       "      <th>...</th>\n",
       "      <td>...</td>\n",
       "      <td>...</td>\n",
       "    </tr>\n",
       "    <tr>\n",
       "      <th>95</th>\n",
       "      <td>Hollon</td>\n",
       "      <td>GloRilla</td>\n",
       "    </tr>\n",
       "    <tr>\n",
       "      <th>96</th>\n",
       "      <td>Lonely Road</td>\n",
       "      <td>mgk &amp; Jelly Roll</td>\n",
       "    </tr>\n",
       "    <tr>\n",
       "      <th>97</th>\n",
       "      <td>Change Me</td>\n",
       "      <td>BigXthaPlug</td>\n",
       "    </tr>\n",
       "    <tr>\n",
       "      <th>98</th>\n",
       "      <td>Him All Along</td>\n",
       "      <td>Gunna</td>\n",
       "    </tr>\n",
       "    <tr>\n",
       "      <th>99</th>\n",
       "      <td>Brokey</td>\n",
       "      <td>Latto</td>\n",
       "    </tr>\n",
       "  </tbody>\n",
       "</table>\n",
       "<p>100 rows × 2 columns</p>\n",
       "</div>"
      ],
      "text/plain": [
       "                  song                  artist\n",
       "0   A Bar Song (Tipsy)               Shaboozey\n",
       "1     Die With A Smile  Lady Gaga & Bruno Mars\n",
       "2   Birds Of A Feather           Billie Eilish\n",
       "3             Espresso       Sabrina Carpenter\n",
       "4         Lose Control             Teddy Swims\n",
       "..                 ...                     ...\n",
       "95              Hollon                GloRilla\n",
       "96         Lonely Road        mgk & Jelly Roll\n",
       "97           Change Me             BigXthaPlug\n",
       "98       Him All Along                   Gunna\n",
       "99              Brokey                   Latto\n",
       "\n",
       "[100 rows x 2 columns]"
      ]
     },
     "execution_count": 10,
     "metadata": {},
     "output_type": "execute_result"
    }
   ],
   "source": [
    "from bs4 import BeautifulSoup\n",
    "import requests    \n",
    "\n",
    "artist_list = []\n",
    "song_list = []\n",
    "\n",
    "url = \"https://www.billboard.com/charts/hot-100/\"\n",
    "result = requests.get(url)\n",
    "soup = BeautifulSoup(result.text, \"html.parser\")\n",
    "\n",
    "# GET #1 ARTIST\n",
    "# GET #1 ARTIST (CURRENTLY NOT WORKING)\n",
    "topArtist = soup.find(\"p\",\"c-tagline a-font-primary-l a-font-primary-m@mobile-max lrv-u-color-black u-color-white@mobile-max lrv-u-margin-tb-00 lrv-u-padding-t-025 lrv-u-margin-r-150\")\n",
    "\n",
    "artist_list.append(topArtist.text)\n",
    "\n",
    "# GET ARTISTS 2-100\n",
    "artist = soup.findAll(\"span\", {\"class\": \"c-label a-no-trucate a-font-primary-s lrv-u-font-size-14@mobile-max u-line\"\n",
    "                                        \"-height-normal@mobile-max u-letter-spacing-0021 lrv-u-display-block a-\"\n",
    "                                        \"truncate-ellipsis-2line u-max-width-330 u-max-width-230@tablet-only\"\n",
    "                               })\n",
    "\n",
    "for i in range(99):\n",
    "    artist_list.append(artist[i].text)\n",
    "\n",
    "\n",
    "# GET #1 SONG\n",
    "topSong = soup.find(\"a\", {\"href\": \"#\",\n",
    "                          \"class\": \"c-title__link lrv-a-unstyle-link\"})\n",
    "song_list.append(topSong.text)\n",
    "\n",
    "# GET SONGS 2-100\n",
    "song = soup.findAll(\"h3\", {\"class\": \"c-title a-no-trucate a-font-primary-bold-s u-letter-spacing-0021 lrv-u-font-size\"\n",
    "                                    \"-18@tablet lrv-u-font-size-16 u-line-height-125 u-line-height-normal@mobile-max \"\n",
    "                                    \"a-truncate-ellipsis u-max-width-330 u-max-width-230@tablet-only\",\n",
    "                           \"id\": \"title-of-a-story\"})\n",
    "\n",
    "for i in range(99):\n",
    "    song_list.append(song[i].text)\n",
    "\n",
    "\n",
    "artist_list = [artist.strip() for artist in artist_list]\n",
    "song_list = [song.strip() for song in song_list]\n",
    "\n",
    "df = pd.DataFrame({'song': song_list, 'artist': artist_list})\n"
   ]
  },
  {
   "cell_type": "code",
   "execution_count": 5,
   "id": "6a00d738-a07b-4220-b812-f4f3861d25bd",
   "metadata": {},
   "outputs": [
    {
     "ename": "NameError",
     "evalue": "name 'df' is not defined",
     "output_type": "error",
     "traceback": [
      "\u001b[0;31m---------------------------------------------------------------------------\u001b[0m",
      "\u001b[0;31mNameError\u001b[0m                                 Traceback (most recent call last)",
      "Cell \u001b[0;32mIn[5], line 1\u001b[0m\n\u001b[0;32m----> 1\u001b[0m \u001b[43mdf\u001b[49m\u001b[38;5;241m.\u001b[39mto_csv(\u001b[38;5;124m\"\u001b[39m\u001b[38;5;124mscraped_hot_tracks.csv\u001b[39m\u001b[38;5;124m\"\u001b[39m, index\u001b[38;5;241m=\u001b[39m\u001b[38;5;28;01mFalse\u001b[39;00m)\n",
      "\u001b[0;31mNameError\u001b[0m: name 'df' is not defined"
     ]
    }
   ],
   "source": [
    "df.to_csv(\"scraped_hot_tracks.csv\", index=False)"
   ]
  },
  {
   "cell_type": "code",
   "execution_count": 4,
   "id": "22662099-02b6-4b68-baab-9cf125f0ba89",
   "metadata": {},
   "outputs": [],
   "source": [
    "def scrape_hot_tracks():\n",
    "    artist_list = []\n",
    "    song_list = []\n",
    "    \n",
    "    url = \"https://www.billboard.com/charts/hot-100/\"\n",
    "    result = requests.get(url)\n",
    "    soup = BeautifulSoup(result.text, \"html.parser\")\n",
    "\n",
    "    topArtist = soup.find(\"p\",\"c-tagline a-font-primary-l a-font-primary-m@mobile-max lrv-u-color-black u-color-white@mobile-max lrv-u-margin-tb-00 lrv-u-padding-t-025 lrv-u-margin-r-150\")\n",
    "    artist_list.append(topArtist.text)\n",
    "\n",
    "    artist = soup.findAll(\"span\", {\"class\": \"c-label a-no-trucate a-font-primary-s lrv-u-font-size-14@mobile-max u-line\"\n",
    "                                        \"-height-normal@mobile-max u-letter-spacing-0021 lrv-u-display-block a-\"\n",
    "                                        \"truncate-ellipsis-2line u-max-width-330 u-max-width-230@tablet-only\"\n",
    "                               })\n",
    "\n",
    "    for i in range(99):\n",
    "        artist_list.append(artist[i].text)\n",
    "    \n",
    "    topSong = soup.find(\"a\", {\"href\": \"#\",\n",
    "                          \"class\": \"c-title__link lrv-a-unstyle-link\"})\n",
    "    song_list.append(topSong.text)\n",
    "\n",
    "    song = soup.findAll(\"h3\", {\"class\": \"c-title a-no-trucate a-font-primary-bold-s u-letter-spacing-0021 lrv-u-font-size\"\n",
    "                                    \"-18@tablet lrv-u-font-size-16 u-line-height-125 u-line-height-normal@mobile-max \"\n",
    "                                    \"a-truncate-ellipsis u-max-width-330 u-max-width-230@tablet-only\",\n",
    "                           \"id\": \"title-of-a-story\"})\n",
    "\n",
    "    for i in range(99):\n",
    "        song_list.append(song[i].text)\n",
    "\n",
    "    artist_list = [artist.strip() for artist in artist_list]\n",
    "    song_list = [song.strip() for song in song_list]\n",
    "\n",
    "    df = pd.DataFrame({'song': song_list, 'artist': artist_list})\n",
    "    \n",
    "    return df"
   ]
  },
  {
   "cell_type": "markdown",
   "id": "2852a12d-ff77-439b-a748-abdd30907c17",
   "metadata": {},
   "source": [
    "#### Spotify API - Setup"
   ]
  },
  {
   "cell_type": "code",
   "execution_count": 62,
   "id": "12bb07da-e1ac-4d2d-b956-dc2c9f145c0d",
   "metadata": {},
   "outputs": [],
   "source": [
    "from config import client_secret, client_id"
   ]
  },
  {
   "cell_type": "code",
   "execution_count": 215,
   "id": "78d0fa7e-6c18-4b4b-8e4d-c97da3fac379",
   "metadata": {},
   "outputs": [],
   "source": [
    "import spotipy\n",
    "import json\n",
    "from spotipy.oauth2 import SpotifyClientCredentials\n",
    "from IPython.display import IFrame"
   ]
  },
  {
   "cell_type": "code",
   "execution_count": 214,
   "id": "f59285ba-8ab7-4646-9c66-329a7f2f65ab",
   "metadata": {},
   "outputs": [],
   "source": [
    "#Initialize SpotiPy with user credentials\n",
    "def initialize_spotify():\n",
    "    sp = spotipy.Spotify(auth_manager=SpotifyClientCredentials(client_id=client_id,\n",
    "                                                           client_secret=client_secret))\n"
   ]
  },
  {
   "cell_type": "markdown",
   "id": "f143f518-bacb-4fe3-8705-7a507757bf42",
   "metadata": {
    "jp-MarkdownHeadingCollapsed": true
   },
   "source": [
    "#### API Calls"
   ]
  },
  {
   "cell_type": "code",
   "execution_count": 64,
   "id": "5f8f1e96-555d-4c1f-90da-3054b88482ba",
   "metadata": {},
   "outputs": [],
   "source": [
    "def get_hot_track_id(df):\n",
    "    results = []\n",
    "    for index, row in df.iterrows(): \n",
    "        result = sp.search(q=f\"{row['song']} {row['artist']}\")\n",
    "        if result['tracks']['items']:\n",
    "            results.append(result['tracks']['items'][0][\"id\"])\n",
    "        time.sleep(2)\n",
    "    return results"
   ]
  },
  {
   "cell_type": "code",
   "execution_count": 65,
   "id": "b8e45bc0-d189-4425-bfc9-31ec82aecaa6",
   "metadata": {},
   "outputs": [],
   "source": [
    "import datetime\n",
    "\n",
    "def update_hot_tracks():\n",
    "    timestamp = datetime.datetime.now()\n",
    "    hot_tracks = scrape_hot_tracks()\n",
    "    hot_tracks[\"id\"] = get_hot_track_id(hot_tracks)\n",
    "    hot_tracks.to_csv(f\"scraped_hot_tracks_{timestamp}.csv\", index=False)\n",
    "    return hot_tracks"
   ]
  },
  {
   "cell_type": "markdown",
   "id": "a1777ce8-b83e-4dcd-bb56-16903a222e93",
   "metadata": {
    "jp-MarkdownHeadingCollapsed": true
   },
   "source": [
    "#### Playlist Scraping"
   ]
  },
  {
   "cell_type": "code",
   "execution_count": 108,
   "id": "7f1c6b2f-3fca-4071-8b3b-1edbc4386682",
   "metadata": {
    "scrolled": true
   },
   "outputs": [],
   "source": [
    "result_1 = sp.search(q='\"Perfect\" songs of All Genres', type= \"playlist\")\n",
    "pprint.pprint(result)\n",
    "\n",
    "result_2 = sp.search(q='Rolling Stone 500 Greatest songs of all time', type= \"playlist\")\n",
    "pprint.pprint(result_2)\n",
    "\n",
    "result_3 = sp.search(q='Best Classical Music', type= \"playlist\")\n",
    "pprint.pprint(result_3)\n",
    "\n",
    "result_4 = sp.search(q='1000 greatest songs of all time', type= \"playlist\")\n",
    "pprint.pprint(result_4)\n",
    "\n",
    "result_5 = sp.search(q='Top 10,000 of all time', type= \"playlist\")\n",
    "pprint.pprint(result_5)"
   ]
  },
  {
   "cell_type": "code",
   "execution_count": 156,
   "id": "4f2bbfbf-34c0-41c6-b1b2-f73aebc8a138",
   "metadata": {
    "scrolled": true
   },
   "outputs": [
    {
     "data": {
      "text/plain": [
       "['2W65j9V0DjVqlm9saRb3uO',\n",
       " '7EAqBCOVkDZcbccjxZmgjp',\n",
       " '7epfU4cGVZ1xHWQbQJl7km',\n",
       " '2LOxEzC4KmoWJ9NhW0kz5M',\n",
       " '1G8IpkZKobrIlXcVPoSIuf']"
      ]
     },
     "execution_count": 156,
     "metadata": {},
     "output_type": "execute_result"
    }
   ],
   "source": [
    "playlists = []\n",
    "playlists.append(result[\"playlists\"][\"items\"][0][\"id\"])\n",
    "playlists.append(result_2[\"playlists\"][\"items\"][0][\"id\"])\n",
    "playlists.append(result_3[\"playlists\"][\"items\"][2][\"id\"])\n",
    "playlists.append(result_4[\"playlists\"][\"items\"][0][\"id\"])\n",
    "playlists.append(result_5[\"playlists\"][\"items\"][2][\"id\"])\n",
    "playlists"
   ]
  },
  {
   "cell_type": "code",
   "execution_count": 152,
   "id": "0be7182f-df7b-4864-bb54-4729f171f377",
   "metadata": {
    "scrolled": true
   },
   "outputs": [
    {
     "name": "stdout",
     "output_type": "stream",
     "text": [
      "All tracks from 7DgPQwzEoUVfQYBiMLER9Z have been fetched\n",
      "All tracks from 6UeSakyzhiEt4NB3UAd6NQ have been fetched\n",
      "All tracks from 2N1Y0GDmKMYNMLzyMGXTiW have been fetched\n",
      "All tracks from 1mjARvpqd27a1RJ1RCkctm have been fetched\n",
      "All tracks from 7xY8wHHjF0wxke2dkK3sRc have been fetched\n",
      "All tracks from 2e3dcRuo9uDH6qD3NOGKAL have been fetched\n",
      "All tracks from 4yfq8a4i9PwPXOnnNZHt3U have been fetched\n",
      "All tracks from 3LJIKHX4Gs8OCoWpaCzzc7 have been fetched\n",
      "All tracks from 37i9dQZF1DXb8wplbC2YhV have been fetched\n",
      "All tracks from 25Y75ozl2aI0NylFToefO5 have been fetched\n",
      "All tracks from 0Zarq4BVkFkZOWkmqsfrjA have been fetched\n",
      "All tracks from 37i9dQZF1DX3HYlktiFpE6 have been fetched\n",
      "All tracks from 3Wu5a8j0WzMtxHGsa8vOKa have been fetched\n",
      "All tracks from 3h9H8SHRaM7CPPZ8Ppr9MC have been fetched\n",
      "All tracks from 0A1IHcqjyImN9uoHRsVtBn have been fetched\n",
      "All tracks from 7bu7BZEusLNJSaAuUUZBKn have been fetched\n",
      "All tracks from 53RsngA4feOCFQPOXOSjY6 have been fetched\n",
      "All tracks from 0Wxjvj6OebVXwnIVWI79Zz have been fetched\n",
      "All tracks from 4PRsjhY43qCxuk5vHWONsc have been fetched\n",
      "All tracks from 1nUtV55mrC5KuE9V8qDtg8 have been fetched\n",
      "All tracks from 6wkAelt6lLirprIrxt73ld have been fetched\n",
      "All tracks from 37ganar6brxAl3ILFzsbok have been fetched\n",
      "All tracks from 233SodfUI5FnlIztbLjojj have been fetched\n",
      "All tracks from 7bu7BZEusLNJSaAuUUZBKn have been fetched\n",
      "All tracks from 19PgP2QSGPcm6Ve8VhbtpG have been fetched\n",
      "All tracks from 5KmBulox9POMt9hOt3VV1x have been fetched\n",
      "All tracks from 31LVuXlRYRVq4Z6krWGedS have been fetched\n",
      "All tracks from 37i9dQZF1DWSV3Tk4GO2fq have been fetched\n",
      "All tracks from 3C64V048fGyQfCjmu9TIGA have been fetched\n",
      "All tracks from 5OPzjdapEM9M2PVFxljEjw have been fetched\n",
      "All tracks from 4mljBuJs2q64CqBhRkLdiw have been fetched\n"
     ]
    }
   ],
   "source": [
    "genres = [\"rock\", \"pop\", \"techno\", \"rap\", \"alternative\", \"electronic\", \"punk\", \"jazz\", \n",
    "          \"hip-hop\", \"afrobeat\", \"drum and bass\", \"a capella\", \"metal\", \"britpop\", \"blues\",\n",
    "          \"house\", \"singer-songwriter\", \"folk\", \"country\", \"grunge\", \"metalcore\", \"post-punk\", \"tango\",\n",
    "         \"disco\", \"80s\", \"70s\", \"60s\", \"50s\", \"90s\", \"00s\", \"orchestra\"]\n",
    "\n",
    "scraped = []\n",
    "for genre in genres:\n",
    "    results_genres = sp.search(q=f\"{genre} top 100\", type= \"playlist\")\n",
    "    if results_genres[\"playlists\"][\"items\"]:\n",
    "        scraped.append(results_genres[\"playlists\"][\"items\"][0][\"id\"])\n",
    "\n",
    "all_af = []\n",
    "for playlist in scraped:\n",
    "    audio_features = get_song_audiofeatures(playlist)\n",
    "    if audio_features:  \n",
    "        all_af.extend(audio_features)\n",
    "    time.sleep(3)\n",
    "    print(f\"All tracks from {playlist} have been fetched\")\n",
    "\n",
    "clean_all_af = [item for item in all_af if item is not None]\n",
    "clean_all_af = pd.DataFrame(clean_all_af)\n",
    "clean_all_af.to_csv(\"spotify_data_genres.csv\", index=False)"
   ]
  },
  {
   "cell_type": "code",
   "execution_count": 154,
   "id": "884a04eb-64d6-43ff-8529-14b4dccb53a0",
   "metadata": {},
   "outputs": [],
   "source": [
    "track_database = pd.read_csv(\"/Users/janoskamke/Documents/GitHub/song_recommender/spotify_database.csv\")\n",
    "all_song_database = pd.concat([clean_all_af, track_database], axis=0, ignore_index=True)\n",
    "all_song_database.drop_duplicates().to_csv(\"spotify_database.csv\", index=False)"
   ]
  },
  {
   "cell_type": "code",
   "execution_count": 66,
   "id": "9243a70f-73a0-4c28-b8a6-ad19f279c341",
   "metadata": {},
   "outputs": [],
   "source": [
    "def get_playlist_tracks(username, playlist_id):\n",
    "    results = sp.user_playlist_tracks(username,playlist_id,market=\"GB\")\n",
    "    tracks = results['items']\n",
    "    while results['next']:\n",
    "        results = sp.next(results)\n",
    "        tracks.extend(results['items'])\n",
    "    return tracks"
   ]
  },
  {
   "cell_type": "code",
   "execution_count": 67,
   "id": "e29f9288-0e8f-44c1-b5e5-c6f7bd86fe7e",
   "metadata": {},
   "outputs": [],
   "source": [
    "def safe_audio_features(track_ids):\n",
    "    while True:\n",
    "        try:\n",
    "            return sp.audio_features(track_ids)\n",
    "        except requests.exceptions.HTTPError as e:\n",
    "            if e.response.status_code == 429:  # Rate limit hit\n",
    "                retry_after = int(e.response.headers.get('Retry-After', 1))\n",
    "                print(f\"Rate limit hit. Retrying after {retry_after} seconds...\")\n",
    "                time.sleep(retry_after)\n",
    "            else:\n",
    "                raise"
   ]
  },
  {
   "cell_type": "code",
   "execution_count": 68,
   "id": "c3621f13-64dc-43ce-a123-4c0e3db00caa",
   "metadata": {},
   "outputs": [],
   "source": [
    "def get_song_audiofeatures(playlist_id):\n",
    "    big_playlist_tracks = get_playlist_tracks(\"Spotify\", playlist_id)\n",
    "    time.sleep(3)\n",
    "    \n",
    "    if not big_playlist_tracks:  # Check if the result is None or empty\n",
    "        print(f\"No tracks found for playlist {playlist_id}\")\n",
    "        return []\n",
    "        \n",
    "    bp_ids = []\n",
    "    for i in big_playlist_tracks:\n",
    "        bp_ids.append(i['track']['id'])\n",
    "    chunk_size = 100\n",
    "    bp_ids_chopped = [bp_ids[i:i+chunk_size] for i in range(0,len(bp_ids), 100)]\n",
    "\n",
    "    af_list = []\n",
    "    for i in bp_ids_chopped:\n",
    "        af_list.extend(safe_audio_features(i))\n",
    "        time.sleep(3)\n",
    "    return af_list"
   ]
  },
  {
   "cell_type": "code",
   "execution_count": 69,
   "id": "411cd305-37bd-40f9-82f9-09dc6e327bc0",
   "metadata": {},
   "outputs": [],
   "source": [
    "# Chat GPT alternative to avoid fetching error\n",
    "\n",
    "def get_song_audiofeatures(playlist_id):\n",
    "    big_playlist_tracks = get_playlist_tracks(\"Spotify\", playlist_id)\n",
    "    time.sleep(3)\n",
    "    \n",
    "    # Validate the API response\n",
    "    if not big_playlist_tracks:  # Handle None or empty responses\n",
    "        print(f\"No tracks found for playlist {playlist_id}\")\n",
    "        return []\n",
    "    \n",
    "    bp_ids = []\n",
    "    for i, track_data in enumerate(big_playlist_tracks):\n",
    "        # Check if track_data and its structure are valid\n",
    "        if not track_data or 'track' not in track_data or not track_data['track']:\n",
    "            print(f\"Invalid track data at index {i} in playlist {playlist_id}: {track_data}\")\n",
    "            continue\n",
    "        try:\n",
    "            # Safely extract track ID\n",
    "            bp_ids.append(track_data['track']['id'])\n",
    "        except KeyError as e:\n",
    "            print(f\"KeyError for track data at index {i} in playlist {playlist_id}: {e}, data: {track_data}\")\n",
    "            continue\n",
    "    \n",
    "    # Split IDs into chunks of 100 for API calls\n",
    "    chunk_size = 100\n",
    "    bp_ids_chopped = [bp_ids[i:i + chunk_size] for i in range(0, len(bp_ids), chunk_size)]\n",
    "\n",
    "    # Fetch audio features for all chunks\n",
    "    af_list = []\n",
    "    for chunk in bp_ids_chopped:\n",
    "        try:\n",
    "            af_list.extend(safe_audio_features(chunk))  # Fetch safely\n",
    "        except Exception as e:\n",
    "            print(f\"Error fetching audio features for chunk {chunk}: {e}\")\n",
    "        time.sleep(3)\n",
    "    \n",
    "    return af_list\n"
   ]
  },
  {
   "cell_type": "code",
   "execution_count": 70,
   "id": "f54edcba-d8e2-495e-a371-cd2b8a7d2863",
   "metadata": {},
   "outputs": [
    {
     "ename": "NameError",
     "evalue": "name 'playlists' is not defined",
     "output_type": "error",
     "traceback": [
      "\u001b[0;31m---------------------------------------------------------------------------\u001b[0m",
      "\u001b[0;31mNameError\u001b[0m                                 Traceback (most recent call last)",
      "Cell \u001b[0;32mIn[70], line 6\u001b[0m\n\u001b[1;32m      2\u001b[0m \u001b[38;5;28;01mimport\u001b[39;00m \u001b[38;5;21;01mpandas\u001b[39;00m \u001b[38;5;28;01mas\u001b[39;00m \u001b[38;5;21;01mpd\u001b[39;00m\n\u001b[1;32m      4\u001b[0m all_af \u001b[38;5;241m=\u001b[39m []\n\u001b[0;32m----> 6\u001b[0m \u001b[38;5;28;01mfor\u001b[39;00m playlist \u001b[38;5;129;01min\u001b[39;00m \u001b[43mplaylists\u001b[49m:\n\u001b[1;32m      7\u001b[0m     audio_features \u001b[38;5;241m=\u001b[39m all_af\u001b[38;5;241m.\u001b[39mextend(get_song_audiofeatures(playlist))\n\u001b[1;32m      8\u001b[0m     \u001b[38;5;28;01mif\u001b[39;00m audio_features:  \n",
      "\u001b[0;31mNameError\u001b[0m: name 'playlists' is not defined"
     ]
    }
   ],
   "source": [
    "import time\n",
    "import pandas as pd\n",
    "\n",
    "all_af = []\n",
    "\n",
    "for playlist in playlists:\n",
    "    audio_features = all_af.extend(get_song_audiofeatures(playlist))\n",
    "    if audio_features:  \n",
    "        all_af.extend(audio_features)\n",
    "    time.sleep(3)\n",
    "    print(f\"All tracks from {playlist} have been fetched\")\n",
    "    \n",
    "clean_all_af = [item for item in all_af if item is not None]\n",
    "clean_all_af = pd.DataFrame(clean_all_af)\n",
    "clean_all_af.to_csv(\"spotify_data_extended.csv\", index=False)\n",
    "\n",
    "track_database = pd.read_csv(\"/Users/janoskamke/Documents/GitHub/song_recommender/spotify_database.csv\")\n",
    "all_song_database = pd.concat([clean_all_af, track_database], axis=0, ignore_index=True)\n",
    "all_song_database.drop_duplicates().to_csv(\"spotify_database.csv\", index=False)"
   ]
  },
  {
   "cell_type": "markdown",
   "id": "815ac224-b4e5-41e5-8731-64469a865454",
   "metadata": {},
   "source": [
    "#### Model Training"
   ]
  },
  {
   "cell_type": "markdown",
   "id": "9af3201b-9a40-4cfa-a1d7-b90c4e1c3818",
   "metadata": {
    "jp-MarkdownHeadingCollapsed": true
   },
   "source": [
    "##### Normalizing Features"
   ]
  },
  {
   "cell_type": "code",
   "execution_count": 156,
   "id": "a8aaa792-2f6f-4e1c-9616-306209412b49",
   "metadata": {},
   "outputs": [],
   "source": [
    "all_song_database = pd.read_csv(\"/Users/janoskamke/Documents/GitHub/song_recommender/spotify_database.csv\")"
   ]
  },
  {
   "cell_type": "code",
   "execution_count": 168,
   "id": "a9833863-1169-4a13-87d2-12d386883a78",
   "metadata": {},
   "outputs": [],
   "source": [
    "from sklearn.preprocessing import StandardScaler\n",
    "\n",
    "features = all_song_database.drop(columns = [\"type\", \"id\", \"uri\", \"track_href\", \"analysis_url\", \n",
    "                                             \"duration_ms\", \"time_signature\", \"cluster\", \"Unnamed: 0\"])\n",
    "\n",
    "normalizer = StandardScaler()\n",
    "normalizer.fit(features)\n",
    "\n",
    "features_norm = normalizer.transform(features)\n",
    "features_norm_df = pd.DataFrame(features_norm, columns = features.columns)"
   ]
  },
  {
   "cell_type": "code",
   "execution_count": 240,
   "id": "020908a7-c353-413c-ac64-a1c019ba74a1",
   "metadata": {},
   "outputs": [],
   "source": [
    "# Alternative features \n",
    "\n",
    "features_alt = all_song_database.drop(columns = [\"type\", \"id\", \"uri\", \"track_href\", \"analysis_url\", \"duration_ms\", \n",
    "                                                 \"time_signature\", \"cluster\", \"Unnamed: 0\", \"liveness\", \"loudness\", \"speechiness\"])\n",
    "\n",
    "normalizer_alt = StandardScaler()\n",
    "normalizer_alt.fit(features_alt)\n",
    "\n",
    "features_alt_norm = normalizer_alt.transform(features_alt)\n",
    "features_alt_norm_df = pd.DataFrame(features_alt_norm, columns = features_alt.columns)\n"
   ]
  },
  {
   "cell_type": "markdown",
   "id": "e655176e-7021-45d8-aabd-01627c944d3d",
   "metadata": {
    "jp-MarkdownHeadingCollapsed": true
   },
   "source": [
    "#### K-Means Clustering"
   ]
  },
  {
   "cell_type": "code",
   "execution_count": 23,
   "id": "6b5f7302-dfeb-42f1-9a22-1c29bf6419b3",
   "metadata": {
    "scrolled": true
   },
   "outputs": [],
   "source": [
    "import matplotlib.pyplot as plt\n",
    "from sklearn.cluster import KMeans"
   ]
  },
  {
   "cell_type": "code",
   "execution_count": 169,
   "id": "5705d6ef-5273-40ee-964d-c42c8f3ad615",
   "metadata": {
    "scrolled": true
   },
   "outputs": [
    {
     "name": "stdout",
     "output_type": "stream",
     "text": [
      "Training a K-Means model with 2 clusters! \n",
      "\n",
      "Training a K-Means model with 3 clusters! \n",
      "\n",
      "Training a K-Means model with 4 clusters! \n",
      "\n",
      "Training a K-Means model with 5 clusters! \n",
      "\n",
      "Training a K-Means model with 6 clusters! \n",
      "\n",
      "Training a K-Means model with 7 clusters! \n",
      "\n",
      "Training a K-Means model with 8 clusters! \n",
      "\n",
      "Training a K-Means model with 9 clusters! \n",
      "\n",
      "Training a K-Means model with 10 clusters! \n",
      "\n"
     ]
    },
    {
     "data": {
      "image/png": "[encoded data removed]",
      "text/plain": [
       "<Figure size 1600x800 with 1 Axes>"
      ]
     },
     "metadata": {},
     "output_type": "display_data"
    }
   ],
   "source": [
    "# Elbow Method\n",
    "\n",
    "K = range(2, 11)\n",
    "inertia = []\n",
    "\n",
    "for k in K:\n",
    "    print(\"Training a K-Means model with {} clusters! \".format(k))\n",
    "    print()\n",
    "    kmeans = KMeans(n_clusters=k,\n",
    "                    random_state=42)\n",
    "    kmeans.fit(features_norm_df)\n",
    "    inertia.append(kmeans.inertia_)\n",
    "\n",
    "import numpy as np\n",
    "import matplotlib.pyplot as plt\n",
    "\n",
    "plt.figure(figsize=(16,8))\n",
    "plt.plot(K, inertia, 'bx-')\n",
    "plt.xlabel('k')\n",
    "plt.ylabel('inertia')\n",
    "plt.xticks(np.arange(min(K), max(K)+1, 1.0))\n",
    "plt.title('Elbow Method showing the optimal k')\n",
    "plt.show()"
   ]
  },
  {
   "cell_type": "code",
   "execution_count": 216,
   "id": "afe187af-3923-41f7-aa2b-be719d18c496",
   "metadata": {
    "scrolled": true
   },
   "outputs": [
    {
     "name": "stdout",
     "output_type": "stream",
     "text": [
      "Training a K-Means model with 2 clusters! \n",
      "\n",
      "Training a K-Means model with 3 clusters! \n",
      "\n",
      "Training a K-Means model with 4 clusters! \n",
      "\n",
      "Training a K-Means model with 5 clusters! \n",
      "\n",
      "Training a K-Means model with 6 clusters! \n",
      "\n",
      "Training a K-Means model with 7 clusters! \n",
      "\n",
      "Training a K-Means model with 8 clusters! \n",
      "\n",
      "Training a K-Means model with 9 clusters! \n",
      "\n",
      "Training a K-Means model with 10 clusters! \n",
      "\n",
      "Training a K-Means model with 11 clusters! \n",
      "\n",
      "Training a K-Means model with 12 clusters! \n",
      "\n",
      "Training a K-Means model with 13 clusters! \n",
      "\n",
      "Training a K-Means model with 14 clusters! \n",
      "\n",
      "Training a K-Means model with 15 clusters! \n",
      "\n",
      "Training a K-Means model with 16 clusters! \n",
      "\n",
      "Training a K-Means model with 17 clusters! \n",
      "\n",
      "Training a K-Means model with 18 clusters! \n",
      "\n",
      "Training a K-Means model with 19 clusters! \n",
      "\n",
      "Training a K-Means model with 20 clusters! \n",
      "\n",
      "Training a K-Means model with 21 clusters! \n",
      "\n",
      "Training a K-Means model with 22 clusters! \n",
      "\n",
      "Training a K-Means model with 23 clusters! \n",
      "\n",
      "Training a K-Means model with 24 clusters! \n",
      "\n",
      "Training a K-Means model with 25 clusters! \n",
      "\n",
      "Training a K-Means model with 26 clusters! \n",
      "\n",
      "Training a K-Means model with 27 clusters! \n",
      "\n",
      "Training a K-Means model with 28 clusters! \n",
      "\n",
      "Training a K-Means model with 29 clusters! \n",
      "\n",
      "Training a K-Means model with 30 clusters! \n",
      "\n",
      "Training a K-Means model with 31 clusters! \n",
      "\n",
      "Training a K-Means model with 32 clusters! \n",
      "\n",
      "Training a K-Means model with 33 clusters! \n",
      "\n",
      "Training a K-Means model with 34 clusters! \n",
      "\n",
      "Training a K-Means model with 35 clusters! \n",
      "\n",
      "Training a K-Means model with 36 clusters! \n",
      "\n",
      "Training a K-Means model with 37 clusters! \n",
      "\n",
      "Training a K-Means model with 38 clusters! \n",
      "\n",
      "Training a K-Means model with 39 clusters! \n",
      "\n",
      "Training a K-Means model with 40 clusters! \n",
      "\n",
      "Training a K-Means model with 41 clusters! \n",
      "\n",
      "Training a K-Means model with 42 clusters! \n",
      "\n",
      "Training a K-Means model with 43 clusters! \n",
      "\n",
      "Training a K-Means model with 44 clusters! \n",
      "\n",
      "Training a K-Means model with 45 clusters! \n",
      "\n",
      "Training a K-Means model with 46 clusters! \n",
      "\n",
      "Training a K-Means model with 47 clusters! \n",
      "\n",
      "Training a K-Means model with 48 clusters! \n",
      "\n",
      "Training a K-Means model with 49 clusters! \n",
      "\n",
      "Training a K-Means model with 50 clusters! \n",
      "\n",
      "Training a K-Means model with 51 clusters! \n",
      "\n",
      "Training a K-Means model with 52 clusters! \n",
      "\n",
      "Training a K-Means model with 53 clusters! \n",
      "\n",
      "Training a K-Means model with 54 clusters! \n",
      "\n",
      "Training a K-Means model with 55 clusters! \n",
      "\n",
      "Training a K-Means model with 56 clusters! \n",
      "\n",
      "Training a K-Means model with 57 clusters! \n",
      "\n",
      "Training a K-Means model with 58 clusters! \n",
      "\n",
      "Training a K-Means model with 59 clusters! \n",
      "\n"
     ]
    },
    {
     "data": {
      "image/png": "[encoded data removed]",
      "text/plain": [
       "<Figure size 1600x800 with 1 Axes>"
      ]
     },
     "metadata": {},
     "output_type": "display_data"
    }
   ],
   "source": [
    "# Elbow Method\n",
    "\n",
    "K = range(2, 60)\n",
    "inertia = []\n",
    "\n",
    "for k in K:\n",
    "    print(\"Training a K-Means model with {} clusters! \".format(k))\n",
    "    print()\n",
    "    kmeans = KMeans(n_clusters=k,\n",
    "                    random_state=42)\n",
    "    kmeans.fit(features_norm_df)\n",
    "    inertia.append(kmeans.inertia_)\n",
    "\n",
    "import numpy as np\n",
    "import matplotlib.pyplot as plt\n",
    "\n",
    "plt.figure(figsize=(16,8))\n",
    "plt.plot(K, inertia, 'bx-')\n",
    "plt.xlabel('k')\n",
    "plt.ylabel('inertia')\n",
    "plt.xticks(np.arange(min(K), max(K)+1, 1.0))\n",
    "plt.title('Elbow Method showing the optimal k')\n",
    "plt.show()"
   ]
  },
  {
   "cell_type": "code",
   "execution_count": 225,
   "id": "817b3262-b041-47bd-bc95-54922e566aa0",
   "metadata": {
    "scrolled": true
   },
   "outputs": [
    {
     "name": "stdout",
     "output_type": "stream",
     "text": [
      "Training a K-Means model with 2 clusters! \n",
      "\n",
      "Training a K-Means model with 3 clusters! \n",
      "\n",
      "Training a K-Means model with 4 clusters! \n",
      "\n",
      "Training a K-Means model with 5 clusters! \n",
      "\n",
      "Training a K-Means model with 6 clusters! \n",
      "\n",
      "Training a K-Means model with 7 clusters! \n",
      "\n",
      "Training a K-Means model with 8 clusters! \n",
      "\n",
      "Training a K-Means model with 9 clusters! \n",
      "\n",
      "Training a K-Means model with 10 clusters! \n",
      "\n",
      "Training a K-Means model with 11 clusters! \n",
      "\n",
      "Training a K-Means model with 12 clusters! \n",
      "\n",
      "Training a K-Means model with 13 clusters! \n",
      "\n",
      "Training a K-Means model with 14 clusters! \n",
      "\n",
      "Training a K-Means model with 15 clusters! \n",
      "\n",
      "Training a K-Means model with 16 clusters! \n",
      "\n",
      "Training a K-Means model with 17 clusters! \n",
      "\n",
      "Training a K-Means model with 18 clusters! \n",
      "\n",
      "Training a K-Means model with 19 clusters! \n",
      "\n",
      "Training a K-Means model with 20 clusters! \n",
      "\n",
      "Training a K-Means model with 21 clusters! \n",
      "\n",
      "Training a K-Means model with 22 clusters! \n",
      "\n",
      "Training a K-Means model with 23 clusters! \n",
      "\n",
      "Training a K-Means model with 24 clusters! \n",
      "\n",
      "Training a K-Means model with 25 clusters! \n",
      "\n",
      "Training a K-Means model with 26 clusters! \n",
      "\n",
      "Training a K-Means model with 27 clusters! \n",
      "\n",
      "Training a K-Means model with 28 clusters! \n",
      "\n",
      "Training a K-Means model with 29 clusters! \n",
      "\n",
      "Training a K-Means model with 30 clusters! \n",
      "\n",
      "Training a K-Means model with 31 clusters! \n",
      "\n",
      "Training a K-Means model with 32 clusters! \n",
      "\n",
      "Training a K-Means model with 33 clusters! \n",
      "\n",
      "Training a K-Means model with 34 clusters! \n",
      "\n",
      "Training a K-Means model with 35 clusters! \n",
      "\n",
      "Training a K-Means model with 36 clusters! \n",
      "\n",
      "Training a K-Means model with 37 clusters! \n",
      "\n",
      "Training a K-Means model with 38 clusters! \n",
      "\n",
      "Training a K-Means model with 39 clusters! \n",
      "\n",
      "Training a K-Means model with 40 clusters! \n",
      "\n",
      "Training a K-Means model with 41 clusters! \n",
      "\n",
      "Training a K-Means model with 42 clusters! \n",
      "\n",
      "Training a K-Means model with 43 clusters! \n",
      "\n",
      "Training a K-Means model with 44 clusters! \n",
      "\n",
      "Training a K-Means model with 45 clusters! \n",
      "\n",
      "Training a K-Means model with 46 clusters! \n",
      "\n",
      "Training a K-Means model with 47 clusters! \n",
      "\n",
      "Training a K-Means model with 48 clusters! \n",
      "\n",
      "Training a K-Means model with 49 clusters! \n",
      "\n",
      "Training a K-Means model with 50 clusters! \n",
      "\n",
      "Training a K-Means model with 51 clusters! \n",
      "\n",
      "Training a K-Means model with 52 clusters! \n",
      "\n",
      "Training a K-Means model with 53 clusters! \n",
      "\n",
      "Training a K-Means model with 54 clusters! \n",
      "\n",
      "Training a K-Means model with 55 clusters! \n",
      "\n",
      "Training a K-Means model with 56 clusters! \n",
      "\n",
      "Training a K-Means model with 57 clusters! \n",
      "\n",
      "Training a K-Means model with 58 clusters! \n",
      "\n",
      "Training a K-Means model with 59 clusters! \n",
      "\n"
     ]
    },
    {
     "data": {
      "image/png": "[encoded data removed]",
      "text/plain": [
       "<Figure size 1600x800 with 1 Axes>"
      ]
     },
     "metadata": {},
     "output_type": "display_data"
    }
   ],
   "source": [
    "# Altnernative Features\n",
    "\n",
    "# Elbow Method\n",
    "\n",
    "K = range(2, 60)\n",
    "inertia = []\n",
    "\n",
    "for k in K:\n",
    "    print(\"Training a K-Means model with {} clusters! \".format(k))\n",
    "    print()\n",
    "    kmeans = KMeans(n_clusters=k,\n",
    "                    random_state=42)\n",
    "    kmeans.fit(features_alt_norm_df)\n",
    "    inertia.append(kmeans.inertia_)\n",
    "\n",
    "import numpy as np\n",
    "import matplotlib.pyplot as plt\n",
    "\n",
    "plt.figure(figsize=(16,8))\n",
    "plt.plot(K, inertia, 'bx-')\n",
    "plt.xlabel('k')\n",
    "plt.ylabel('inertia')\n",
    "plt.xticks(np.arange(min(K), max(K)+1, 1.0))\n",
    "plt.title('Elbow Method showing the optimal k')\n",
    "plt.show()"
   ]
  },
  {
   "cell_type": "markdown",
   "id": "52c20887-e7ec-4a5f-aab9-2af16d9a7cdd",
   "metadata": {
    "jp-MarkdownHeadingCollapsed": true
   },
   "source": [
    "##### Silhouette Score"
   ]
  },
  {
   "cell_type": "code",
   "execution_count": 219,
   "id": "33a5245b-f4d2-496b-9f3f-5bc54edd9aca",
   "metadata": {},
   "outputs": [
    {
     "data": {
      "text/plain": [
       "Text(0.5, 1.0, 'Silhouette Method showing the optimal k')"
      ]
     },
     "execution_count": 219,
     "metadata": {},
     "output_type": "execute_result"
    },
    {
     "data": {
      "image/png": "[encoded data removed]",
      "text/plain": [
       "<Figure size 1600x800 with 1 Axes>"
      ]
     },
     "metadata": {},
     "output_type": "display_data"
    }
   ],
   "source": [
    "from sklearn.metrics import silhouette_score\n",
    "\n",
    "K = range(2, 30)\n",
    "silhouette = []\n",
    "\n",
    "for k in K:\n",
    "    kmeans = KMeans(n_clusters=k,\n",
    "                    random_state=42, n_init='auto')\n",
    "    kmeans.fit(features_norm_df)\n",
    "    \n",
    "    filename = \"Model/kmeans_\" + str(k) + \".pickle\"\n",
    "    #with open(filename, \"wb\") as f:\n",
    "        #pickle.dump(kmeans,f)\n",
    "    \n",
    "    silhouette.append(silhouette_score(features_norm_df, kmeans.predict(features_norm_df)))\n",
    "\n",
    "\n",
    "plt.figure(figsize=(16,8))\n",
    "plt.plot(K, silhouette, 'bx-')\n",
    "plt.xlabel('k')\n",
    "plt.ylabel('silhouette score')\n",
    "plt.xticks(np.arange(min(K), max(K)+1, 1.0))\n",
    "plt.title('Silhouette Method showing the optimal k')"
   ]
  },
  {
   "cell_type": "markdown",
   "id": "191cbc9f-0b6e-4829-9ff8-2389940139d0",
   "metadata": {
    "jp-MarkdownHeadingCollapsed": true
   },
   "source": [
    "##### K-Means - 8"
   ]
  },
  {
   "cell_type": "code",
   "execution_count": 370,
   "id": "2a24ccaa-2288-4fb5-b13f-65a8f3bded87",
   "metadata": {},
   "outputs": [
    {
     "data": {
      "text/plain": [
       "array([1, 4, 7, ..., 7, 4, 4], dtype=int32)"
      ]
     },
     "execution_count": 370,
     "metadata": {},
     "output_type": "execute_result"
    }
   ],
   "source": [
    "import matplotlib.pyplot as plt\n",
    "from sklearn.cluster import KMeans\n",
    "\n",
    "kmeans = KMeans(n_clusters=8, random_state=42)\n",
    "kmeans.fit(features_norm_df.drop(columns = \"cluster\"))\n",
    "\n",
    "labels = kmeans.labels_\n",
    "labels"
   ]
  },
  {
   "cell_type": "code",
   "execution_count": 372,
   "id": "61161264-ea3c-4e3e-bb9e-728c6599a7d5",
   "metadata": {
    "scrolled": true
   },
   "outputs": [
    {
     "data": {
      "text/plain": [
       "0    3302\n",
       "1     948\n",
       "2    2930\n",
       "3    1120\n",
       "4    2717\n",
       "5    1173\n",
       "6     665\n",
       "7    3915\n",
       "Name: count, dtype: int64"
      ]
     },
     "execution_count": 372,
     "metadata": {},
     "output_type": "execute_result"
    }
   ],
   "source": [
    "clusters = kmeans.predict(features_norm_df.drop(columns = \"cluster\"))\n",
    "#clusters\n",
    "pd.Series(clusters).value_counts().sort_index()"
   ]
  },
  {
   "cell_type": "code",
   "execution_count": 373,
   "id": "c777bebb-775e-4d41-a498-3c82af263b4e",
   "metadata": {},
   "outputs": [],
   "source": [
    "features_norm_df[\"cluster\"] = clusters\n",
    "all_song_database[\"cluster\"] = clusters \n",
    "all_song_database.to_csv(\"spotify_database.csv\")\n",
    "all_song_database.to_csv(\"spotify_database_kmeans_8.csv\")"
   ]
  },
  {
   "cell_type": "code",
   "execution_count": 374,
   "id": "6ee52ec5-a56c-4711-909a-82cdf4da8206",
   "metadata": {},
   "outputs": [],
   "source": [
    "import pickle\n",
    "\n",
    "#scaler = StandardScaler()\n",
    "#model = KMeans()\n",
    "\n",
    "with open(\"/Users/janoskamke/Documents/GitHub/song_recommender/scaler.pickle\", \"wb\") as f:\n",
    "    pickle.dump(normalizer, f)\n",
    "\n",
    "with open(\"/Users/janoskamke/Documents/GitHub/song_recommender/kmeans_8.pickle\", \"wb\") as f:\n",
    "    pickle.dump(kmeans, f)"
   ]
  },
  {
   "cell_type": "code",
   "execution_count": null,
   "id": "213fbc68-0a76-40bc-8b00-5f43c6d5fc3f",
   "metadata": {},
   "outputs": [],
   "source": [
    "print(\"Model KMeans_8 Silhouette Score: {}\".format(silhouette_score(features_norm_df, pred, metric='euclidean')))"
   ]
  },
  {
   "cell_type": "markdown",
   "id": "59b7f4eb-77e0-46d8-a1b3-5e1ae9917a87",
   "metadata": {
    "jp-MarkdownHeadingCollapsed": true
   },
   "source": [
    "##### K-Means - 24"
   ]
  },
  {
   "cell_type": "code",
   "execution_count": 383,
   "id": "1a0372b8-f066-480a-9c70-eda72045060e",
   "metadata": {
    "scrolled": true
   },
   "outputs": [
    {
     "data": {
      "text/plain": [
       "array([13, 17, 11, ...,  5, 17, 11], dtype=int32)"
      ]
     },
     "execution_count": 383,
     "metadata": {},
     "output_type": "execute_result"
    }
   ],
   "source": [
    "import matplotlib.pyplot as plt\n",
    "from sklearn.cluster import KMeans\n",
    "\n",
    "kmeans = KMeans(n_clusters=24, random_state=42)\n",
    "kmeans.fit(features_norm_df.drop(columns = \"cluster\"))\n",
    "\n",
    "labels = kmeans.labels_\n",
    "labels"
   ]
  },
  {
   "cell_type": "code",
   "execution_count": 384,
   "id": "f900c346-9919-4fdb-90ea-294a3ccf6616",
   "metadata": {
    "scrolled": true
   },
   "outputs": [
    {
     "data": {
      "text/plain": [
       "0      782\n",
       "1     1172\n",
       "2      678\n",
       "3      978\n",
       "4      639\n",
       "5     1027\n",
       "6      287\n",
       "7      375\n",
       "8      538\n",
       "9      151\n",
       "10     910\n",
       "11     803\n",
       "12     829\n",
       "13     835\n",
       "14     627\n",
       "15     821\n",
       "16     610\n",
       "17     872\n",
       "18     896\n",
       "19     798\n",
       "20     422\n",
       "21     697\n",
       "22     502\n",
       "23     521\n",
       "Name: count, dtype: int64"
      ]
     },
     "execution_count": 384,
     "metadata": {},
     "output_type": "execute_result"
    }
   ],
   "source": [
    "clusters = kmeans.predict(features_norm_df.drop(columns = \"cluster\"))\n",
    "#clusters\n",
    "pd.Series(clusters).value_counts().sort_index()"
   ]
  },
  {
   "cell_type": "code",
   "execution_count": 385,
   "id": "af311dbf-de8a-4b13-b58a-644df0a43539",
   "metadata": {},
   "outputs": [],
   "source": [
    "features_norm_df[\"cluster\"] = clusters\n",
    "all_song_database[\"cluster\"] = clusters \n",
    "all_song_database.to_csv(\"spotify_database.csv\")\n",
    "all_song_database.to_csv(\"spotify_database_kmeans_24.csv\")"
   ]
  },
  {
   "cell_type": "code",
   "execution_count": 386,
   "id": "638c748c-3c43-41dd-aec5-880907be8a34",
   "metadata": {},
   "outputs": [],
   "source": [
    "import pickle\n",
    "\n",
    "#scaler = StandardScaler()\n",
    "#model = KMeans()\n",
    "\n",
    "with open(\"/Users/janoskamke/Documents/GitHub/song_recommender/scaler.pickle\", \"wb\") as f:\n",
    "    pickle.dump(normalizer, f)\n",
    "\n",
    "with open(\"/Users/janoskamke/Documents/GitHub/song_recommender/kmeans_24.pickle\", \"wb\") as f:\n",
    "    pickle.dump(kmeans, f)"
   ]
  },
  {
   "cell_type": "markdown",
   "id": "a5f285ef-abcd-4f1d-8039-4d6aecab805c",
   "metadata": {
    "jp-MarkdownHeadingCollapsed": true
   },
   "source": [
    "##### K-Means 19 (alternative features)"
   ]
  },
  {
   "cell_type": "code",
   "execution_count": 420,
   "id": "141daacc-e8a7-4f2c-aef7-2723e63f3e01",
   "metadata": {},
   "outputs": [
    {
     "data": {
      "text/plain": [
       "array([ 7, 17,  1, ..., 12,  0, 11], dtype=int32)"
      ]
     },
     "execution_count": 420,
     "metadata": {},
     "output_type": "execute_result"
    }
   ],
   "source": [
    "import matplotlib.pyplot as plt\n",
    "from sklearn.cluster import KMeans\n",
    "\n",
    "kmeans = KMeans(n_clusters=19, random_state=42)\n",
    "kmeans.fit(features_alt_norm_df.drop(columns = \"cluster\"))\n",
    "\n",
    "labels = kmeans.labels_\n",
    "labels"
   ]
  },
  {
   "cell_type": "code",
   "execution_count": 421,
   "id": "716681d8-b991-44e6-af12-66cfeb2ddb42",
   "metadata": {
    "scrolled": true
   },
   "outputs": [
    {
     "data": {
      "text/plain": [
       "0      904\n",
       "1     1317\n",
       "2     1035\n",
       "3      747\n",
       "4      531\n",
       "5      937\n",
       "6      588\n",
       "7      818\n",
       "8      650\n",
       "9     1104\n",
       "10     586\n",
       "11    1162\n",
       "12    1642\n",
       "13     573\n",
       "14     840\n",
       "15     721\n",
       "16     747\n",
       "17    1151\n",
       "18     717\n",
       "Name: count, dtype: int64"
      ]
     },
     "execution_count": 421,
     "metadata": {},
     "output_type": "execute_result"
    }
   ],
   "source": [
    "clusters = kmeans.predict(features_alt_norm_df.drop(columns = \"cluster\"))\n",
    "#clusters\n",
    "pd.Series(clusters).value_counts().sort_index()"
   ]
  },
  {
   "cell_type": "code",
   "execution_count": 422,
   "id": "6dd6fe48-1ee5-4690-97c7-2ee518ad0abb",
   "metadata": {},
   "outputs": [],
   "source": [
    "features_alt_norm_df[\"cluster\"] = clusters\n",
    "all_song_database[\"cluster\"] = clusters \n",
    "all_song_database.to_csv(\"spotify_database.csv\")\n",
    "all_song_database.to_csv(\"spotify_database_kmeans_19.csv\")"
   ]
  },
  {
   "cell_type": "code",
   "execution_count": 423,
   "id": "c93f0e19-911c-43f5-9ae1-622479d82950",
   "metadata": {},
   "outputs": [],
   "source": [
    "import pickle\n",
    "\n",
    "#scaler = StandardScaler()\n",
    "#model = KMeans()\n",
    "\n",
    "with open(\"/Users/janoskamke/Documents/GitHub/song_recommender/scaler_alt.pickle\", \"wb\") as f:\n",
    "    pickle.dump(normalizer_alt, f)\n",
    "\n",
    "with open(\"/Users/janoskamke/Documents/GitHub/song_recommender/kmeans_19.pickle\", \"wb\") as f:\n",
    "    pickle.dump(kmeans, f)"
   ]
  },
  {
   "cell_type": "markdown",
   "id": "55284a02-6caf-402c-ba08-e391675d74a6",
   "metadata": {
    "jp-MarkdownHeadingCollapsed": true
   },
   "source": [
    "##### k-Means 26 (alternative features)"
   ]
  },
  {
   "cell_type": "code",
   "execution_count": 424,
   "id": "9f85c2ec-968c-498a-b217-269ef011c2b9",
   "metadata": {},
   "outputs": [
    {
     "data": {
      "text/plain": [
       "array([ 9,  3, 13, ...,  8,  8, 15], dtype=int32)"
      ]
     },
     "execution_count": 424,
     "metadata": {},
     "output_type": "execute_result"
    }
   ],
   "source": [
    "import matplotlib.pyplot as plt\n",
    "from sklearn.cluster import KMeans\n",
    "\n",
    "kmeans = KMeans(n_clusters=26, random_state=42)\n",
    "kmeans.fit(features_alt_norm_df.drop(columns = \"cluster\"))\n",
    "\n",
    "labels = kmeans.labels_\n",
    "labels"
   ]
  },
  {
   "cell_type": "code",
   "execution_count": 425,
   "id": "d1eaa314-64fd-4270-b6c3-47f9d72c8857",
   "metadata": {},
   "outputs": [
    {
     "data": {
      "text/plain": [
       "0      774\n",
       "1      868\n",
       "2     1054\n",
       "3      831\n",
       "4      277\n",
       "5      734\n",
       "6      187\n",
       "7      824\n",
       "8      844\n",
       "9      659\n",
       "10     617\n",
       "11     636\n",
       "12     900\n",
       "13     840\n",
       "14     668\n",
       "15     637\n",
       "16     265\n",
       "17     374\n",
       "18     368\n",
       "19     624\n",
       "20    1155\n",
       "21     815\n",
       "22     280\n",
       "23     211\n",
       "24     709\n",
       "25     619\n",
       "Name: count, dtype: int64"
      ]
     },
     "execution_count": 425,
     "metadata": {},
     "output_type": "execute_result"
    }
   ],
   "source": [
    "clusters = kmeans.predict(features_alt_norm_df.drop(columns = \"cluster\"))\n",
    "#clusters\n",
    "pd.Series(clusters).value_counts().sort_index()"
   ]
  },
  {
   "cell_type": "code",
   "execution_count": 426,
   "id": "dca9e085-ceb7-4266-8e26-6c3198b8c9b0",
   "metadata": {},
   "outputs": [],
   "source": [
    "all_song_database[\"cluster\"] = clusters \n",
    "all_song_database.to_csv(\"spotify_database.csv\")\n",
    "all_song_database.to_csv(\"spotify_database_kmeans_26.csv\")"
   ]
  },
  {
   "cell_type": "code",
   "execution_count": 427,
   "id": "ba72a268-607d-4591-897a-4da5f52cfb12",
   "metadata": {},
   "outputs": [],
   "source": [
    "import pickle\n",
    "\n",
    "#scaler = StandardScaler()\n",
    "#model = KMeans()\n",
    "\n",
    "with open(\"/Users/janoskamke/Documents/GitHub/song_recommender/scaler_alt.pickle\", \"wb\") as f:\n",
    "    pickle.dump(normalizer_alt, f)\n",
    "\n",
    "with open(\"/Users/janoskamke/Documents/GitHub/song_recommender/kmeans_26.pickle\", \"wb\") as f:\n",
    "    pickle.dump(kmeans, f)"
   ]
  },
  {
   "cell_type": "markdown",
   "id": "91412432-46ec-4aee-b6fc-3c3e1950f264",
   "metadata": {
    "jp-MarkdownHeadingCollapsed": true
   },
   "source": [
    "#### DBSCAN Clustering"
   ]
  },
  {
   "cell_type": "code",
   "execution_count": 291,
   "id": "7825e1ea-0477-4b08-98b8-5acc3b9f03e4",
   "metadata": {
    "scrolled": true
   },
   "outputs": [
    {
     "ename": "IndexError",
     "evalue": "index 10 is out of bounds for axis 0 with size 3",
     "output_type": "error",
     "traceback": [
      "\u001b[0;31m---------------------------------------------------------------------------\u001b[0m",
      "\u001b[0;31mIndexError\u001b[0m                                Traceback (most recent call last)",
      "Cell \u001b[0;32mIn[291], line 9\u001b[0m\n\u001b[1;32m      6\u001b[0m plt\u001b[38;5;241m.\u001b[39mfigure(figsize\u001b[38;5;241m=\u001b[39m(\u001b[38;5;241m12\u001b[39m, \u001b[38;5;241m6\u001b[39m))\n\u001b[1;32m      8\u001b[0m colors \u001b[38;5;241m=\u001b[39m np\u001b[38;5;241m.\u001b[39marray([\u001b[38;5;124m'\u001b[39m\u001b[38;5;124mblue\u001b[39m\u001b[38;5;124m'\u001b[39m, \u001b[38;5;124m'\u001b[39m\u001b[38;5;124mred\u001b[39m\u001b[38;5;124m'\u001b[39m, \u001b[38;5;124m'\u001b[39m\u001b[38;5;124mblack\u001b[39m\u001b[38;5;124m'\u001b[39m])\n\u001b[0;32m----> 9\u001b[0m plt\u001b[38;5;241m.\u001b[39mscatter(features_norm[:, \u001b[38;5;241m0\u001b[39m], features_norm[:, \u001b[38;5;241m1\u001b[39m], color\u001b[38;5;241m=\u001b[39m\u001b[43mcolors\u001b[49m\u001b[43m[\u001b[49m\u001b[43mpred\u001b[49m\u001b[43m]\u001b[49m)\n\u001b[1;32m     11\u001b[0m plt\u001b[38;5;241m.\u001b[39mshow()\n",
      "\u001b[0;31mIndexError\u001b[0m: index 10 is out of bounds for axis 0 with size 3"
     ]
    },
    {
     "data": {
      "text/plain": [
       "<Figure size 1200x600 with 0 Axes>"
      ]
     },
     "metadata": {},
     "output_type": "display_data"
    }
   ],
   "source": [
    "from sklearn.cluster import DBSCAN\n",
    "\n",
    "dbs = DBSCAN(eps=0.95, min_samples = 10) \n",
    "pred = dbs.fit_predict(features_norm)\n",
    "\n",
    "plt.figure(figsize=(12, 6))\n",
    "\n",
    "colors = np.array(['blue', 'red', 'black'])\n",
    "plt.scatter(features_norm[:, 0], features_norm[:, 1], color=colors[pred])\n",
    "\n",
    "plt.show()"
   ]
  },
  {
   "cell_type": "code",
   "execution_count": 292,
   "id": "acbfeab0-d7b6-4b5d-977c-94993374feab",
   "metadata": {
    "scrolled": true
   },
   "outputs": [
    {
     "data": {
      "text/plain": [
       "-1     13408\n",
       " 0       286\n",
       " 1       222\n",
       " 2       242\n",
       " 3       230\n",
       " 4       600\n",
       " 5       277\n",
       " 6       196\n",
       " 7       615\n",
       " 8        11\n",
       " 9        56\n",
       " 10      200\n",
       " 11       21\n",
       " 12      182\n",
       " 13       29\n",
       " 14       18\n",
       " 15       66\n",
       " 16       11\n",
       " 17       15\n",
       " 18       11\n",
       " 19        4\n",
       " 20        7\n",
       " 21        8\n",
       " 22        9\n",
       " 23        5\n",
       " 24        9\n",
       " 25        7\n",
       " 26        6\n",
       " 27        9\n",
       " 28       10\n",
       "Name: count, dtype: int64"
      ]
     },
     "execution_count": 292,
     "metadata": {},
     "output_type": "execute_result"
    }
   ],
   "source": [
    "clusters = dbs.fit_predict(features_norm_df)\n",
    "#clusters\n",
    "pd.Series(clusters).value_counts().sort_index()"
   ]
  },
  {
   "cell_type": "markdown",
   "id": "4c0cb7fe-e04c-4eaa-b8b0-9c69b1c210e3",
   "metadata": {
    "jp-MarkdownHeadingCollapsed": true
   },
   "source": [
    "#### Hirachical Clustering"
   ]
  },
  {
   "cell_type": "code",
   "execution_count": 150,
   "id": "3a045f6d-5420-4934-a405-13fa9654a050",
   "metadata": {},
   "outputs": [
    {
     "data": {
      "image/png": "[encoded data removed]",
      "text/plain": [
       "<Figure size 1000x700 with 1 Axes>"
      ]
     },
     "metadata": {},
     "output_type": "display_data"
    }
   ],
   "source": [
    "from scipy.cluster.hierarchy import dendrogram, linkage\n",
    "import matplotlib.pyplot as plt\n",
    "\n",
    "# Compute the linkage matrix\n",
    "linkage_matrix = linkage(features_norm, method='complete')\n",
    "\n",
    "# Plot the dendrogram\n",
    "plt.figure(figsize=(10, 7))\n",
    "dendrogram(linkage_matrix)\n",
    "plt.title('Dendrogram for Hierarchical Clustering')\n",
    "plt.xlabel('Sample Index')\n",
    "plt.ylabel('Distance')\n",
    "plt.show()\n"
   ]
  },
  {
   "cell_type": "markdown",
   "id": "5e84f5d1-0053-46ab-8dc2-1943e768cda0",
   "metadata": {
    "jp-MarkdownHeadingCollapsed": true
   },
   "source": [
    "#### Agglomerative Clustering"
   ]
  },
  {
   "cell_type": "code",
   "execution_count": 294,
   "id": "1bfc2779-4a7f-42fc-9119-37d545a6a7c2",
   "metadata": {},
   "outputs": [],
   "source": [
    "from sklearn import cluster"
   ]
  },
  {
   "cell_type": "code",
   "execution_count": 314,
   "id": "9cf8c36e-15ad-41b4-b705-95461b462dfe",
   "metadata": {
    "scrolled": true
   },
   "outputs": [],
   "source": [
    "agglomerative = cluster.AgglomerativeClustering(n_clusters=23,linkage='complete')\n",
    "agg_cluster = agglomerative.fit(features_norm_df.drop(columns = \"cluster\"))\n",
    "\n"
   ]
  },
  {
   "cell_type": "code",
   "execution_count": 315,
   "id": "142a94cc-f95f-4170-a93c-bd226d053a91",
   "metadata": {
    "scrolled": true
   },
   "outputs": [
    {
     "data": {
      "text/plain": [
       "0      501\n",
       "1      510\n",
       "2      414\n",
       "3      902\n",
       "4      353\n",
       "5      642\n",
       "6     1481\n",
       "7      122\n",
       "8      105\n",
       "9     2153\n",
       "10    2279\n",
       "11       9\n",
       "12     687\n",
       "13       1\n",
       "14     735\n",
       "15       1\n",
       "16      51\n",
       "17      53\n",
       "18     561\n",
       "19    5100\n",
       "20       4\n",
       "21     101\n",
       "22       5\n",
       "Name: count, dtype: int64"
      ]
     },
     "execution_count": 315,
     "metadata": {},
     "output_type": "execute_result"
    }
   ],
   "source": [
    "clusters = agglomerative.fit_predict(features_norm_df.drop(columns = \"cluster\"))\n",
    "#clusters\n",
    "pd.Series(clusters).value_counts().sort_index()"
   ]
  },
  {
   "cell_type": "code",
   "execution_count": 357,
   "id": "291a760d-b73e-4724-98be-8d133f601c93",
   "metadata": {},
   "outputs": [],
   "source": [
    "all_song_database[\"cluster\"] = clusters \n",
    "all_song_database.to_csv(\"spotify_database.csv\")\n",
    "all_song_database.to_csv(\"spotify_database_agg_cluster_23.csv\")"
   ]
  },
  {
   "cell_type": "code",
   "execution_count": null,
   "id": "0694c9ee-9366-4ac2-a096-feb7bea65ae5",
   "metadata": {},
   "outputs": [],
   "source": [
    "import pickle\n",
    "\n",
    "#model = Agglomerative Clustering()\n",
    "\n",
    "with open(\"/Users/janoskamke/Documents/GitHub/song_recommender/agg_cluster_23.pickle\", \"wb\") as f:\n",
    "    pickle.dump(agg_cluster, f)"
   ]
  },
  {
   "cell_type": "code",
   "execution_count": 321,
   "id": "0b624003-882a-492b-8f30-fc7c11260177",
   "metadata": {},
   "outputs": [
    {
     "data": {
      "text/plain": [
       "0      705\n",
       "1      929\n",
       "2      666\n",
       "3      625\n",
       "4     1207\n",
       "5     1479\n",
       "6      506\n",
       "7      517\n",
       "8      826\n",
       "9      281\n",
       "10     770\n",
       "11     834\n",
       "12    1137\n",
       "13     777\n",
       "14     453\n",
       "15     639\n",
       "16     311\n",
       "17     692\n",
       "18     839\n",
       "19     407\n",
       "20    1000\n",
       "21     477\n",
       "22     693\n",
       "Name: count, dtype: int64"
      ]
     },
     "execution_count": 321,
     "metadata": {},
     "output_type": "execute_result"
    }
   ],
   "source": [
    "# ward linkage tends to produce relatively equally sized clusters\n",
    "agglomerative = cluster.AgglomerativeClustering(n_clusters=23,linkage='ward')\n",
    "agg_cluster_ward = agglomerative.fit(features_norm_df.drop(columns = \"cluster\"))\n",
    "\n",
    "clusters = agglomerative.fit_predict(features_norm_df.drop(columns = \"cluster\"))\n",
    "#clusters\n",
    "pd.Series(clusters).value_counts().sort_index()"
   ]
  },
  {
   "cell_type": "code",
   "execution_count": 358,
   "id": "70e29a83-3be4-484c-b033-58557d1086b9",
   "metadata": {},
   "outputs": [],
   "source": [
    "all_song_database[\"cluster\"] = clusters \n",
    "all_song_database.to_csv(\"spotify_database.csv\")\n",
    "all_song_database.to_csv(\"spotify_database_agg_cluster_23_ward.csv\")"
   ]
  },
  {
   "cell_type": "code",
   "execution_count": 322,
   "id": "29ec24ff-82ab-482e-8043-3f11e4b19435",
   "metadata": {},
   "outputs": [],
   "source": [
    "import pickle\n",
    "\n",
    "#model = Agglomerative Clustering()\n",
    "\n",
    "with open(\"/Users/janoskamke/Documents/GitHub/song_recommender/agg_cluster_23_ward.pickle\", \"wb\") as f:\n",
    "    pickle.dump(agg_cluster_ward, f)"
   ]
  },
  {
   "cell_type": "code",
   "execution_count": 393,
   "id": "97729efb-e045-44e0-a898-492fea6fab4c",
   "metadata": {
    "scrolled": true
   },
   "outputs": [
    {
     "data": {
      "text/plain": [
       "0     1228\n",
       "1     3526\n",
       "2      284\n",
       "3      796\n",
       "4      597\n",
       "5      536\n",
       "6      332\n",
       "7      260\n",
       "8      132\n",
       "9      508\n",
       "10     888\n",
       "11       1\n",
       "12      37\n",
       "13     495\n",
       "14     166\n",
       "15     182\n",
       "16     933\n",
       "17      41\n",
       "18    1685\n",
       "19     301\n",
       "20    1616\n",
       "21     765\n",
       "22    1461\n",
       "Name: count, dtype: int64"
      ]
     },
     "execution_count": 393,
     "metadata": {},
     "output_type": "execute_result"
    }
   ],
   "source": [
    "agglomerative = cluster.AgglomerativeClustering(n_clusters=23,linkage='complete')\n",
    "agg_cluser_alt = agglomerative.fit_predict(features_alt_norm_df.drop(columns = \"cluster\"))\n",
    "\n",
    "clusters = agglomerative.fit_predict(features_alt_norm_df.drop(columns = \"cluster\"))\n",
    "#clusters\n",
    "pd.Series(clusters).value_counts().sort_index()"
   ]
  },
  {
   "cell_type": "code",
   "execution_count": 392,
   "id": "f503eb84-9ac3-44fc-a346-b46accd532f8",
   "metadata": {},
   "outputs": [],
   "source": [
    "all_song_database[\"cluster\"] = clusters \n",
    "all_song_database.to_csv(\"spotify_database.csv\")\n",
    "all_song_database.to_csv(\"spotify_database_agg_cluser_alt_23.csv\")"
   ]
  },
  {
   "cell_type": "code",
   "execution_count": 389,
   "id": "70808cd4-0585-4db5-adaf-d0dd81d63e39",
   "metadata": {},
   "outputs": [],
   "source": [
    "import pickle\n",
    "\n",
    "#model = Agglomerative Clustering()\n",
    "\n",
    "with open(\"/Users/janoskamke/Documents/GitHub/song_recommender/agg_cluser_alt_23.pickle\", \"wb\") as f:\n",
    "    pickle.dump(agg_cluser_alt, f)"
   ]
  },
  {
   "cell_type": "markdown",
   "id": "e84ebe0c-6280-4d2e-a642-986db9af2d80",
   "metadata": {},
   "source": [
    "#### Python Program"
   ]
  },
  {
   "cell_type": "markdown",
   "id": "1e55f7c7-65e5-4c21-aad3-8c4281457f69",
   "metadata": {
    "jp-MarkdownHeadingCollapsed": true
   },
   "source": [
    "##### Functions"
   ]
  },
  {
   "cell_type": "code",
   "execution_count": 58,
   "id": "4780b31a-284b-4e55-b322-87dee541ecbe",
   "metadata": {},
   "outputs": [
    {
     "name": "stderr",
     "output_type": "stream",
     "text": [
      "/opt/anaconda3/envs/bertopic_env/lib/python3.10/site-packages/fuzzywuzzy/fuzz.py:11: UserWarning: Using slow pure-python SequenceMatcher. Install python-Levenshtein to remove this warning\n",
      "  warnings.warn('Using slow pure-python SequenceMatcher. Install python-Levenshtein to remove this warning')\n"
     ]
    }
   ],
   "source": [
    "from autocorrect import Speller\n",
    "import random\n",
    "from fuzzywuzzy import fuzz\n",
    "from fuzzywuzzy import process"
   ]
  },
  {
   "cell_type": "code",
   "execution_count": 40,
   "id": "79e07da2-6521-44be-b007-9ad86c3a68a3",
   "metadata": {},
   "outputs": [],
   "source": [
    "## Day 1\n",
    "\n",
    "def song_recommender():\n",
    "    spell = Speller(lang='en')\n",
    "    user_song = spell(input(\"Please enter a song you like: \"))\n",
    "    # corrected_song = str(user_song.correct())\n",
    "    if user_song in [song.lower() for song in list(df[\"song\"])]:\n",
    "        rec_song = random.choice(list(df[df[\"song\"]!= user_song][\"song\"]))\n",
    "        rec_artist = df[df[\"song\"] == rec_song].reset_index()[\"artist\"][0]\n",
    "        return f\"You might also like {rec_song} by {rec_artist}.\"\n",
    "    else:\n",
    "        return \"You are lame, your song is not hot.\""
   ]
  },
  {
   "cell_type": "code",
   "execution_count": 402,
   "id": "741c3402-1d0d-465f-be6b-4151212c8f63",
   "metadata": {},
   "outputs": [],
   "source": [
    "## Day 2 - Current Version\n",
    "\n",
    "def song_recommender(user_af, user_song, hot_tracks, database):\n",
    "    if user_song.lower() in [song.lower() for song in list(hot_tracks[\"song\"])]:\n",
    "        rec_track = random.choice(list(hot_tracks[hot_tracks[\"song\"]!= user_song][\"id\"]))\n",
    "    else:\n",
    "        model = load_model(\"kmeans_24.pickle\")\n",
    "        scaler = load_scaler(\"scaler.pickle\")\n",
    "        user_af = af_user_input(user_song=user_song, user_artist=user_artist)\n",
    "        user_af_norm = scaler.transform(user_af.drop(columns = [\"type\", \"id\", \"uri\", \n",
    "                                                                    \"track_href\", \"analysis_url\", \n",
    "                                                                    \"duration_ms\", \"time_signature\"]))\n",
    "        rec_track_cluster = model.predict(user_af_norm)[0]\n",
    "        rec_track = random.choice(list(database[(database[\"id\"] != user_af[\"id\"][0]) & (database[\"cluster\"] == rec_track_cluster)][\"id\"]))\n",
    "    return rec_track"
   ]
  },
  {
   "cell_type": "code",
   "execution_count": 409,
   "id": "492f49ef-a8fd-4237-9100-8666cc811511",
   "metadata": {},
   "outputs": [],
   "source": [
    "## Day 4 - Alternative with Playlist and fewer features\n",
    "#### TESTING\n",
    "\n",
    "def song_playlist_recommender_alt(user_song, hot_tracks, database, model_file):\n",
    "    if user_song.lower() in [song.lower() for song in list(hot_tracks[\"song\"])]:\n",
    "        rec_track = random.choice(list(hot_tracks[hot_tracks[\"song\"]!= user_song][\"id\"]))\n",
    "    else:\n",
    "        model = load_model(filename = model_file)\n",
    "        scaler = load_scaler(filename = \"scaler_alt.pickle\")\n",
    "        user_af_norm = scaler.transform(user_af.drop(columns = [\"type\", \"id\", \"uri\", \"track_href\", \"analysis_url\", \n",
    "                                                                \"duration_ms\", \"time_signature\", \"liveness\", \"loudness\", \"speechiness\"]))\n",
    "        rec_track_cluster = model.predict(user_af_norm)[0]\n",
    "        rec_playlist = random.sample(list(database[(database[\"id\"] != user_af[\"id\"][0]) & (database[\"cluster\"] == rec_track_cluster)][\"id\"]), 15)\n",
    "    return rec_playlist"
   ]
  },
  {
   "cell_type": "code",
   "execution_count": 413,
   "id": "05678c1f-5312-4ab1-a1be-e7c33c5982d1",
   "metadata": {},
   "outputs": [],
   "source": [
    "## Day 4 - Alternative with Playlist\n",
    "#### TESTING\n",
    "\n",
    "def song_playlist_recommender(user_song, hot_tracks, database, model_file):\n",
    "    if user_song.lower() in [song.lower() for song in list(hot_tracks[\"song\"])]:\n",
    "        rec_track = random.choice(list(hot_tracks[hot_tracks[\"song\"]!= user_song][\"id\"]))\n",
    "    else:\n",
    "        model = load_model(model_file)\n",
    "        scaler = load_scaler(\"scaler.pickle\")\n",
    "        user_af_norm = scaler.transform(user_af.drop(columns = [\"type\", \"id\", \"uri\", \"track_href\", \"analysis_url\", \n",
    "                                                                \"duration_ms\", \"time_signature\"]))\n",
    "        rec_track_cluster = model.predict(user_af_norm)[0]\n",
    "        rec_playlist = random.sample(list(database[(database[\"id\"] != user_af[\"id\"][0]) & (database[\"cluster\"] == rec_track_cluster)][\"id\"]), 15)\n",
    "    return rec_playlist"
   ]
  },
  {
   "cell_type": "code",
   "execution_count": 433,
   "id": "2bd8e22f-5f17-44ce-a2d4-4feb826c8614",
   "metadata": {},
   "outputs": [],
   "source": [
    "## Day 4 - Alternative with Playlist and fewer features\n",
    "\n",
    "def song_playlist_recommender(user_song, hot_tracks, database):\n",
    "    if user_song.lower() in [song.lower() for song in list(hot_tracks[\"song\"])]:\n",
    "        rec_track = random.choice(list(hot_tracks[hot_tracks[\"song\"]!= user_song][\"id\"]))\n",
    "    else:\n",
    "        model = load_model(filename = \"kmeans_26.pickle\")\n",
    "        scaler = load_scaler(filename = \"scaler_alt.pickle\")\n",
    "        user_af_norm = scaler.transform(user_af.drop(columns = [\"type\", \"id\", \"uri\", \"track_href\", \"analysis_url\", \n",
    "                                                                \"duration_ms\", \"time_signature\", \"liveness\", \"loudness\", \"speechiness\"]))\n",
    "        rec_track_cluster = model.predict(user_af_norm)[0]\n",
    "        rec_playlist = random.sample(list(database[(database[\"id\"] != user_af[\"id\"][0]) & (database[\"cluster\"] == rec_track_cluster)][\"id\"]), 15)\n",
    "    return rec_playlist"
   ]
  },
  {
   "cell_type": "code",
   "execution_count": 330,
   "id": "876ef69c-f10a-4478-8c41-e9d8313b3b94",
   "metadata": {},
   "outputs": [],
   "source": [
    "## Day 4 - Alternative with Playlist\n",
    "\n",
    "def song_playlist_recommender(user_af, user_song, hot_tracks, database):\n",
    "    if user_song.lower() in [song.lower() for song in list(hot_tracks[\"song\"])]:\n",
    "        rec_track = random.choice(list(hot_tracks[hot_tracks[\"song\"]!= user_song][\"id\"]))\n",
    "    else:\n",
    "        model = load_model(\"kmeans_24.pickle\")\n",
    "        scaler = load_scaler(\"scaler.pickle\")\n",
    "        user_af = af_user_input(user_song=user_song, user_artist=user_artist)\n",
    "        user_af_norm = scaler.transform(user_af.drop(columns = [\"type\", \"id\", \"uri\", \"track_href\", \"analysis_url\", \n",
    "                                                                \"duration_ms\", \"time_signature\"]))\n",
    "        rec_track_cluster = model.predict(user_af_norm)[0]\n",
    "        rec_playlist = random.sample(list(database[(database[\"id\"] != user_af[\"id\"][0]) & (database[\"cluster\"] == rec_track_cluster)][\"id\"]), 15)\n",
    "    return rec_playlist"
   ]
  },
  {
   "cell_type": "code",
   "execution_count": 37,
   "id": "9bbcbd32-cf5e-44db-b1a6-25a59807848f",
   "metadata": {},
   "outputs": [],
   "source": [
    "def af_user_input(user_song, user_artist):\n",
    "    result = sp.search(q=f'{user_song} {user_artist}')\n",
    "    user_id = result[\"tracks\"][\"items\"][0][\"id\"]\n",
    "    user_af = sp.audio_features(user_id)\n",
    "    return pd.DataFrame(user_af)"
   ]
  },
  {
   "cell_type": "code",
   "execution_count": 207,
   "id": "c20396f9-78bc-447b-a62b-f97239e6b351",
   "metadata": {},
   "outputs": [],
   "source": [
    "from IPython.display import IFrame\n",
    "\n",
    "def play_song(track_id):\n",
    "    return IFrame(src=\"https://open.spotify.com/embed/track/\"+track_id,\n",
    "       width=\"400\",\n",
    "       height=\"230\",\n",
    "       frameborder=\"0\",\n",
    "       allowtransparency=\"true\",\n",
    "       allow=\"encrypted-media\",\n",
    "      )"
   ]
  },
  {
   "cell_type": "code",
   "execution_count": 35,
   "id": "1856bc7b-1feb-47e3-8175-fe8536cf6baf",
   "metadata": {
    "scrolled": true
   },
   "outputs": [],
   "source": [
    "# Get user input\n",
    "def spell_check(user_song, user_artist, hot_tracks):\n",
    "    \n",
    "    choices_song = hot_tracks[\"song\"]\n",
    "    user_song_corr = process.extract(user_song, choices_song, limit=1)\n",
    "    while user_song != user_song_corr[0][0]:    \n",
    "        if user_song_corr[0][1] >= 90:\n",
    "            user_song = user_song_corr[0][0]\n",
    "        elif user_song_corr[0][2] <= 80:\n",
    "            answer = input(f\"Did you mean: {user_song_corr[0][0]}?\")\n",
    "            if answer.lower().strip() == \"yes\":\n",
    "                user_song = user_song_corr[0][0]\n",
    "            else:\n",
    "                user_song = input(\"Please enter the song name: \").strip()\n",
    "                user_song_corr = process.extract(user_song, choices_song, limit=1)\n",
    "\n",
    "    choices_artist = hot_tracks[\"artist\"]\n",
    "    user_artist_corr = process.extract(user_artist, choices_artist, limit=1)\n",
    "    while user_artist != user_artist_corr[0][0]: \n",
    "        if user_artist_corr[0][1] >= 90:\n",
    "            user_artist = user_artist_corr[0][0]\n",
    "        elif user_artist_corr[0][2] <= 80:\n",
    "            answer = input(f\"Did you mean: {user_artist_corr[0][0]}?\")\n",
    "            if answer.lower().strip() == \"yes\":\n",
    "                user_artist = user_artist_corr[0][0]\n",
    "            else:\n",
    "                user_artist = input(\"Please enter the song name: \").strip()\n",
    "                user_song_corr = process.extract(user_song, choices_song, limit=1)\n",
    "            \n",
    "    return user_song, user_artist"
   ]
  },
  {
   "cell_type": "code",
   "execution_count": null,
   "id": "5ca1f3fe-bc89-4558-8e03-5482ed155012",
   "metadata": {},
   "outputs": [],
   "source": [
    "# Testing the function\n",
    "print(\"Please share a song and an artist you like, so we can give you a recommendation.\")\n",
    "user_song = input(\"Please enter the song name: \").strip()\n",
    "user_artist = input(\"Please enter the artist's name: \").strip()\n",
    "\n",
    "user_song, user_artist = spell_check(user_song, user_artist, hot_tracks)"
   ]
  },
  {
   "cell_type": "code",
   "execution_count": 41,
   "id": "aad68bf5-3720-4fbb-acef-e0d444cdb6b1",
   "metadata": {},
   "outputs": [],
   "source": [
    "def load_model(filename = \"kmeans_8.pickle\"): \n",
    "    try: \n",
    "        with open(filename, \"rb\") as f: \n",
    "            return pickle.load(f) \n",
    "        \n",
    "    except FileNotFoundError: \n",
    "        print(\"File not found!\")"
   ]
  },
  {
   "cell_type": "code",
   "execution_count": 42,
   "id": "c71b5452-2505-4056-989f-03166d466053",
   "metadata": {},
   "outputs": [],
   "source": [
    "def load_scaler(filename = \"scaler.pickle\"): \n",
    "    try: \n",
    "        with open(filename, \"rb\") as f: \n",
    "            return pickle.load(f) \n",
    "        \n",
    "    except FileNotFoundError: \n",
    "        print(\"File not found!\")"
   ]
  },
  {
   "cell_type": "code",
   "execution_count": 212,
   "id": "242471c5-72de-4a01-890d-f206c3b8752d",
   "metadata": {},
   "outputs": [],
   "source": [
    "def get_user_input():\n",
    "    print(\"Please share a song and an artist you like, so we can give you a recommendation.\")\n",
    "    user_song = input(\"Please enter the song name: \").strip()\n",
    "    user_artist = input(\"Please enter the artist's name: \").strip()\n",
    "    return user_song, user_artist"
   ]
  },
  {
   "cell_type": "markdown",
   "id": "146c297a-a0a3-494b-8364-800bc20f80a4",
   "metadata": {
    "jp-MarkdownHeadingCollapsed": true
   },
   "source": [
    "##### Script"
   ]
  },
  {
   "cell_type": "code",
   "execution_count": 183,
   "id": "2bbe614e-ff28-40ca-ab7d-648b18206781",
   "metadata": {
    "scrolled": true
   },
   "outputs": [
    {
     "name": "stdout",
     "output_type": "stream",
     "text": [
      "Please share a song and an artist you like, so we can give you a recommendation.\n"
     ]
    },
    {
     "name": "stdin",
     "output_type": "stream",
     "text": [
      "Please enter the song name:  hey jude\n",
      "Please enter the artist's name:  beatles\n"
     ]
    },
    {
     "name": "stdout",
     "output_type": "stream",
     "text": [
      "You might also like: \n"
     ]
    },
    {
     "name": "stderr",
     "output_type": "stream",
     "text": [
      "/opt/anaconda3/envs/bertopic_env/lib/python3.10/site-packages/sklearn/base.py:493: UserWarning: X does not have valid feature names, but KMeans was fitted with feature names\n",
      "  warnings.warn(\n"
     ]
    },
    {
     "data": {
      "text/html": [
       "\n",
       "        <iframe\n",
       "            width=\"700\"\n",
       "            height=\"320\"\n",
       "            src=\"https://open.spotify.com/embed/track/7549epm7P9NV1zTMfKBI8m?frameborder=0&allowtransparency=true&allow=encrypted-media\"\n",
       "            frameborder=\"0\"\n",
       "            allowfullscreen\n",
       "            \n",
       "        ></iframe>\n",
       "        "
      ],
      "text/plain": [
       "<IPython.lib.display.IFrame at 0x2981a8be0>"
      ]
     },
     "execution_count": 183,
     "metadata": {},
     "output_type": "execute_result"
    }
   ],
   "source": [
    "## Current Version\n",
    "\n",
    "# Import databases\n",
    "hot_tracks = pd.read_csv(\"/Users/janoskamke/Documents/GitHub/song_recommender/scraped_hot_tracks.csv\")\n",
    "track_database = pd.read_csv(\"/Users/janoskamke/Documents/GitHub/song_recommender/spotify_database.csv\")\n",
    "\n",
    "# Get user input\n",
    "print(\"Please share a song and an artist you like, so we can give you a recommendation.\")\n",
    "user_song = input(\"Please enter the song name: \").strip()\n",
    "user_artist = input(\"Please enter the artist's name: \").strip()\n",
    "\n",
    "# Spell sheck user input\n",
    "# user_song, user_artist = spell_check(user_song, user_artist, hot_tracks)\n",
    "\n",
    "user_af = af_user_input(user_song=user_song, user_artist=user_artist)\n",
    "rec_track = song_recommender(user_af=user_af, user_song=user_song, hot_tracks=hot_tracks, database=track_database)\n",
    "\n",
    "print(\"You might also like: \")\n",
    "\n",
    "play_song(rec_track)"
   ]
  },
  {
   "cell_type": "code",
   "execution_count": 361,
   "id": "43fd7d3f-afd9-4a04-8030-df47d8e706a9",
   "metadata": {
    "scrolled": true
   },
   "outputs": [
    {
     "name": "stdout",
     "output_type": "stream",
     "text": [
      "Please share a song and an artist you like, so we can give you a recommendation.\n"
     ]
    },
    {
     "name": "stdin",
     "output_type": "stream",
     "text": [
      "Please enter the song name:  glue\n",
      "Please enter the artist's name:  bicep\n"
     ]
    },
    {
     "ename": "TypeError",
     "evalue": "song_playlist_recommender_alt() missing 1 required positional argument: 'model_file'",
     "output_type": "error",
     "traceback": [
      "\u001b[0;31m---------------------------------------------------------------------------\u001b[0m",
      "\u001b[0;31mTypeError\u001b[0m                                 Traceback (most recent call last)",
      "Cell \u001b[0;32mIn[361], line 17\u001b[0m\n\u001b[1;32m     14\u001b[0m user_af \u001b[38;5;241m=\u001b[39m af_user_input(user_song\u001b[38;5;241m=\u001b[39muser_song, user_artist\u001b[38;5;241m=\u001b[39muser_artist)\n\u001b[1;32m     16\u001b[0m \u001b[38;5;66;03m# Get Recommendation\u001b[39;00m\n\u001b[0;32m---> 17\u001b[0m rec_playlist \u001b[38;5;241m=\u001b[39m \u001b[43msong_playlist_recommender_alt\u001b[49m\u001b[43m(\u001b[49m\u001b[43muser_af\u001b[49m\u001b[38;5;241;43m=\u001b[39;49m\u001b[43muser_af\u001b[49m\u001b[43m,\u001b[49m\u001b[43m \u001b[49m\u001b[43muser_song\u001b[49m\u001b[38;5;241;43m=\u001b[39;49m\u001b[43muser_song\u001b[49m\u001b[43m,\u001b[49m\u001b[43m \u001b[49m\u001b[43mhot_tracks\u001b[49m\u001b[38;5;241;43m=\u001b[39;49m\u001b[43mhot_tracks\u001b[49m\u001b[43m,\u001b[49m\u001b[43m \u001b[49m\u001b[43mdatabase\u001b[49m\u001b[38;5;241;43m=\u001b[39;49m\u001b[43mtrack_database\u001b[49m\u001b[43m)\u001b[49m\n\u001b[1;32m     19\u001b[0m \u001b[38;5;66;03m# Display Recommendation\u001b[39;00m\n\u001b[1;32m     20\u001b[0m \u001b[38;5;28mprint\u001b[39m(\u001b[38;5;124m\"\u001b[39m\u001b[38;5;124mYou chose this song: \u001b[39m\u001b[38;5;124m\"\u001b[39m)\n",
      "\u001b[0;31mTypeError\u001b[0m: song_playlist_recommender_alt() missing 1 required positional argument: 'model_file'"
     ]
    }
   ],
   "source": [
    "# Current Version - incl. Playlist\n",
    "\n",
    "# Import databases\n",
    "hot_tracks = pd.read_csv(\"/Users/janoskamke/Documents/GitHub/song_recommender/scraped_hot_tracks.csv\")\n",
    "track_database = pd.read_csv(\"/Users/janoskamke/Documents/GitHub/song_recommender/spotify_database.csv\")\n",
    "\n",
    "# Initialize Spotify Connection\n",
    "initialize_spotify()\n",
    "\n",
    "# Get user input\n",
    "user_song, user_artist = get_user_input()\n",
    "\n",
    "# Get user AF\n",
    "user_af = af_user_input(user_song=user_song, user_artist=user_artist)\n",
    "\n",
    "# Get Recommendation\n",
    "rec_playlist = song_playlist_recommender_alt(user_af=user_af, user_song=user_song, hot_tracks=hot_tracks, database=track_database)\n",
    "\n",
    "# Display Recommendation\n",
    "print(\"You chose this song: \")\n",
    "\n",
    "display(play_song(user_af[\"id\"][0]))\n",
    "\n",
    "print(\"You might also like: \")\n",
    "\n",
    "display(play_song(rec_playlist[0]))\n",
    "\n",
    "print (\"Here is a complete playlist for you to check out. Have fun!\")\n",
    "\n",
    "for song in (rec_playlist[1:]):\n",
    "    display(play_song(song))\n",
    "    time.sleep(1)"
   ]
  },
  {
   "cell_type": "markdown",
   "id": "3f101c46-99a7-4694-bd89-e096930223b9",
   "metadata": {
    "jp-MarkdownHeadingCollapsed": true
   },
   "source": [
    "### TESTING Models"
   ]
  },
  {
   "cell_type": "code",
   "execution_count": 431,
   "id": "dc1c9858-d7d2-4f5c-9e5c-ae9cc6c10fba",
   "metadata": {
    "scrolled": true
   },
   "outputs": [
    {
     "name": "stdout",
     "output_type": "stream",
     "text": [
      "Please share a song and an artist you like, so we can give you a recommendation.\n"
     ]
    },
    {
     "name": "stdin",
     "output_type": "stream",
     "text": [
      "Please enter the song name:  complicated\n",
      "Please enter the artist's name:  avril lavigne\n"
     ]
    },
    {
     "name": "stdout",
     "output_type": "stream",
     "text": [
      "Recommendation based in mode: kmeans_8.pickle.\n",
      "You chose this song: \n"
     ]
    },
    {
     "name": "stderr",
     "output_type": "stream",
     "text": [
      "/opt/anaconda3/envs/bertopic_env/lib/python3.10/site-packages/sklearn/base.py:493: UserWarning: X does not have valid feature names, but KMeans was fitted with feature names\n",
      "  warnings.warn(\n"
     ]
    },
    {
     "data": {
      "text/html": [
       "\n",
       "        <iframe\n",
       "            width=\"400\"\n",
       "            height=\"230\"\n",
       "            src=\"https://open.spotify.com/embed/track/5xEM5hIgJ1jjgcEBfpkt2F?frameborder=0&allowtransparency=true&allow=encrypted-media\"\n",
       "            frameborder=\"0\"\n",
       "            allowfullscreen\n",
       "            \n",
       "        ></iframe>\n",
       "        "
      ],
      "text/plain": [
       "<IPython.lib.display.IFrame at 0x29ee6c190>"
      ]
     },
     "metadata": {},
     "output_type": "display_data"
    },
    {
     "name": "stdout",
     "output_type": "stream",
     "text": [
      "You might also like: \n"
     ]
    },
    {
     "data": {
      "text/html": [
       "\n",
       "        <iframe\n",
       "            width=\"400\"\n",
       "            height=\"230\"\n",
       "            src=\"https://open.spotify.com/embed/track/7orBBkQgdmanhPCD0FyHHZ?frameborder=0&allowtransparency=true&allow=encrypted-media\"\n",
       "            frameborder=\"0\"\n",
       "            allowfullscreen\n",
       "            \n",
       "        ></iframe>\n",
       "        "
      ],
      "text/plain": [
       "<IPython.lib.display.IFrame at 0x29b4cada0>"
      ]
     },
     "metadata": {},
     "output_type": "display_data"
    },
    {
     "name": "stdout",
     "output_type": "stream",
     "text": [
      "Here is a complete playlist for you to check out. Have fun!\n"
     ]
    },
    {
     "data": {
      "text/html": [
       "\n",
       "        <iframe\n",
       "            width=\"400\"\n",
       "            height=\"230\"\n",
       "            src=\"https://open.spotify.com/embed/track/2RnPATK99oGOZygnD2GTO6?frameborder=0&allowtransparency=true&allow=encrypted-media\"\n",
       "            frameborder=\"0\"\n",
       "            allowfullscreen\n",
       "            \n",
       "        ></iframe>\n",
       "        "
      ],
      "text/plain": [
       "<IPython.lib.display.IFrame at 0x29df26740>"
      ]
     },
     "metadata": {},
     "output_type": "display_data"
    },
    {
     "data": {
      "text/html": [
       "\n",
       "        <iframe\n",
       "            width=\"400\"\n",
       "            height=\"230\"\n",
       "            src=\"https://open.spotify.com/embed/track/3qLfqgs5VACxcBCvq3NTjs?frameborder=0&allowtransparency=true&allow=encrypted-media\"\n",
       "            frameborder=\"0\"\n",
       "            allowfullscreen\n",
       "            \n",
       "        ></iframe>\n",
       "        "
      ],
      "text/plain": [
       "<IPython.lib.display.IFrame at 0x29eabe2f0>"
      ]
     },
     "metadata": {},
     "output_type": "display_data"
    },
    {
     "data": {
      "text/html": [
       "\n",
       "        <iframe\n",
       "            width=\"400\"\n",
       "            height=\"230\"\n",
       "            src=\"https://open.spotify.com/embed/track/6Hfu9sc7jvv6coyy2LlzBF?frameborder=0&allowtransparency=true&allow=encrypted-media\"\n",
       "            frameborder=\"0\"\n",
       "            allowfullscreen\n",
       "            \n",
       "        ></iframe>\n",
       "        "
      ],
      "text/plain": [
       "<IPython.lib.display.IFrame at 0x29eabe2f0>"
      ]
     },
     "metadata": {},
     "output_type": "display_data"
    },
    {
     "data": {
      "text/html": [
       "\n",
       "        <iframe\n",
       "            width=\"400\"\n",
       "            height=\"230\"\n",
       "            src=\"https://open.spotify.com/embed/track/2jAn0rAOyLW6hIEuIDNcoT?frameborder=0&allowtransparency=true&allow=encrypted-media\"\n",
       "            frameborder=\"0\"\n",
       "            allowfullscreen\n",
       "            \n",
       "        ></iframe>\n",
       "        "
      ],
      "text/plain": [
       "<IPython.lib.display.IFrame at 0x29eabe2f0>"
      ]
     },
     "metadata": {},
     "output_type": "display_data"
    },
    {
     "data": {
      "text/html": [
       "\n",
       "        <iframe\n",
       "            width=\"400\"\n",
       "            height=\"230\"\n",
       "            src=\"https://open.spotify.com/embed/track/4cAlWy0jWMtn5AdtZy4dHi?frameborder=0&allowtransparency=true&allow=encrypted-media\"\n",
       "            frameborder=\"0\"\n",
       "            allowfullscreen\n",
       "            \n",
       "        ></iframe>\n",
       "        "
      ],
      "text/plain": [
       "<IPython.lib.display.IFrame at 0x29eabe2f0>"
      ]
     },
     "metadata": {},
     "output_type": "display_data"
    },
    {
     "data": {
      "text/html": [
       "\n",
       "        <iframe\n",
       "            width=\"400\"\n",
       "            height=\"230\"\n",
       "            src=\"https://open.spotify.com/embed/track/0Zu78U5wdn9DbL4dKwrb0d?frameborder=0&allowtransparency=true&allow=encrypted-media\"\n",
       "            frameborder=\"0\"\n",
       "            allowfullscreen\n",
       "            \n",
       "        ></iframe>\n",
       "        "
      ],
      "text/plain": [
       "<IPython.lib.display.IFrame at 0x29eabe2f0>"
      ]
     },
     "metadata": {},
     "output_type": "display_data"
    },
    {
     "data": {
      "text/html": [
       "\n",
       "        <iframe\n",
       "            width=\"400\"\n",
       "            height=\"230\"\n",
       "            src=\"https://open.spotify.com/embed/track/20I6sIOMTCkB6w7ryavxtO?frameborder=0&allowtransparency=true&allow=encrypted-media\"\n",
       "            frameborder=\"0\"\n",
       "            allowfullscreen\n",
       "            \n",
       "        ></iframe>\n",
       "        "
      ],
      "text/plain": [
       "<IPython.lib.display.IFrame at 0x29eabe2f0>"
      ]
     },
     "metadata": {},
     "output_type": "display_data"
    },
    {
     "data": {
      "text/html": [
       "\n",
       "        <iframe\n",
       "            width=\"400\"\n",
       "            height=\"230\"\n",
       "            src=\"https://open.spotify.com/embed/track/6ySVa9OQidAvnEk9O0w2qR?frameborder=0&allowtransparency=true&allow=encrypted-media\"\n",
       "            frameborder=\"0\"\n",
       "            allowfullscreen\n",
       "            \n",
       "        ></iframe>\n",
       "        "
      ],
      "text/plain": [
       "<IPython.lib.display.IFrame at 0x29eabe2f0>"
      ]
     },
     "metadata": {},
     "output_type": "display_data"
    },
    {
     "data": {
      "text/html": [
       "\n",
       "        <iframe\n",
       "            width=\"400\"\n",
       "            height=\"230\"\n",
       "            src=\"https://open.spotify.com/embed/track/64D3dzWyj0GpQT1AHx4kbK?frameborder=0&allowtransparency=true&allow=encrypted-media\"\n",
       "            frameborder=\"0\"\n",
       "            allowfullscreen\n",
       "            \n",
       "        ></iframe>\n",
       "        "
      ],
      "text/plain": [
       "<IPython.lib.display.IFrame at 0x29eabe2f0>"
      ]
     },
     "metadata": {},
     "output_type": "display_data"
    },
    {
     "data": {
      "text/html": [
       "\n",
       "        <iframe\n",
       "            width=\"400\"\n",
       "            height=\"230\"\n",
       "            src=\"https://open.spotify.com/embed/track/0xQT5kbfnrU9Dv7x4MtMbi?frameborder=0&allowtransparency=true&allow=encrypted-media\"\n",
       "            frameborder=\"0\"\n",
       "            allowfullscreen\n",
       "            \n",
       "        ></iframe>\n",
       "        "
      ],
      "text/plain": [
       "<IPython.lib.display.IFrame at 0x29b4cada0>"
      ]
     },
     "metadata": {},
     "output_type": "display_data"
    },
    {
     "data": {
      "text/html": [
       "\n",
       "        <iframe\n",
       "            width=\"400\"\n",
       "            height=\"230\"\n",
       "            src=\"https://open.spotify.com/embed/track/20GF3fkvUO04Vuk4hKKKOL?frameborder=0&allowtransparency=true&allow=encrypted-media\"\n",
       "            frameborder=\"0\"\n",
       "            allowfullscreen\n",
       "            \n",
       "        ></iframe>\n",
       "        "
      ],
      "text/plain": [
       "<IPython.lib.display.IFrame at 0x29b4cada0>"
      ]
     },
     "metadata": {},
     "output_type": "display_data"
    },
    {
     "data": {
      "text/html": [
       "\n",
       "        <iframe\n",
       "            width=\"400\"\n",
       "            height=\"230\"\n",
       "            src=\"https://open.spotify.com/embed/track/1q2JUOBJqs0ezWvf0Rkm4f?frameborder=0&allowtransparency=true&allow=encrypted-media\"\n",
       "            frameborder=\"0\"\n",
       "            allowfullscreen\n",
       "            \n",
       "        ></iframe>\n",
       "        "
      ],
      "text/plain": [
       "<IPython.lib.display.IFrame at 0x29b4cada0>"
      ]
     },
     "metadata": {},
     "output_type": "display_data"
    },
    {
     "data": {
      "text/html": [
       "\n",
       "        <iframe\n",
       "            width=\"400\"\n",
       "            height=\"230\"\n",
       "            src=\"https://open.spotify.com/embed/track/09u787BYeYIGd2mFIJ505t?frameborder=0&allowtransparency=true&allow=encrypted-media\"\n",
       "            frameborder=\"0\"\n",
       "            allowfullscreen\n",
       "            \n",
       "        ></iframe>\n",
       "        "
      ],
      "text/plain": [
       "<IPython.lib.display.IFrame at 0x29b4cada0>"
      ]
     },
     "metadata": {},
     "output_type": "display_data"
    },
    {
     "data": {
      "text/html": [
       "\n",
       "        <iframe\n",
       "            width=\"400\"\n",
       "            height=\"230\"\n",
       "            src=\"https://open.spotify.com/embed/track/1QLr0zOu6fv5hLEHOwdr21?frameborder=0&allowtransparency=true&allow=encrypted-media\"\n",
       "            frameborder=\"0\"\n",
       "            allowfullscreen\n",
       "            \n",
       "        ></iframe>\n",
       "        "
      ],
      "text/plain": [
       "<IPython.lib.display.IFrame at 0x29b4cada0>"
      ]
     },
     "metadata": {},
     "output_type": "display_data"
    },
    {
     "name": "stdout",
     "output_type": "stream",
     "text": [
      "Recommendation based in mode: kmeans_24.pickle.\n",
      "You chose this song: \n"
     ]
    },
    {
     "name": "stderr",
     "output_type": "stream",
     "text": [
      "/opt/anaconda3/envs/bertopic_env/lib/python3.10/site-packages/sklearn/base.py:493: UserWarning: X does not have valid feature names, but KMeans was fitted with feature names\n",
      "  warnings.warn(\n"
     ]
    },
    {
     "data": {
      "text/html": [
       "\n",
       "        <iframe\n",
       "            width=\"400\"\n",
       "            height=\"230\"\n",
       "            src=\"https://open.spotify.com/embed/track/5xEM5hIgJ1jjgcEBfpkt2F?frameborder=0&allowtransparency=true&allow=encrypted-media\"\n",
       "            frameborder=\"0\"\n",
       "            allowfullscreen\n",
       "            \n",
       "        ></iframe>\n",
       "        "
      ],
      "text/plain": [
       "<IPython.lib.display.IFrame at 0x29ba9a410>"
      ]
     },
     "metadata": {},
     "output_type": "display_data"
    },
    {
     "name": "stdout",
     "output_type": "stream",
     "text": [
      "You might also like: \n"
     ]
    },
    {
     "data": {
      "text/html": [
       "\n",
       "        <iframe\n",
       "            width=\"400\"\n",
       "            height=\"230\"\n",
       "            src=\"https://open.spotify.com/embed/track/3YRCqOhFifThpSRFJ1VWFM?frameborder=0&allowtransparency=true&allow=encrypted-media\"\n",
       "            frameborder=\"0\"\n",
       "            allowfullscreen\n",
       "            \n",
       "        ></iframe>\n",
       "        "
      ],
      "text/plain": [
       "<IPython.lib.display.IFrame at 0x29ba4d780>"
      ]
     },
     "metadata": {},
     "output_type": "display_data"
    },
    {
     "name": "stdout",
     "output_type": "stream",
     "text": [
      "Here is a complete playlist for you to check out. Have fun!\n"
     ]
    },
    {
     "data": {
      "text/html": [
       "\n",
       "        <iframe\n",
       "            width=\"400\"\n",
       "            height=\"230\"\n",
       "            src=\"https://open.spotify.com/embed/track/1WCVOoQA7dh8y9MIPQbho8?frameborder=0&allowtransparency=true&allow=encrypted-media\"\n",
       "            frameborder=\"0\"\n",
       "            allowfullscreen\n",
       "            \n",
       "        ></iframe>\n",
       "        "
      ],
      "text/plain": [
       "<IPython.lib.display.IFrame at 0x29df26e60>"
      ]
     },
     "metadata": {},
     "output_type": "display_data"
    },
    {
     "data": {
      "text/html": [
       "\n",
       "        <iframe\n",
       "            width=\"400\"\n",
       "            height=\"230\"\n",
       "            src=\"https://open.spotify.com/embed/track/1VWs302APzvQSw94xr7SSN?frameborder=0&allowtransparency=true&allow=encrypted-media\"\n",
       "            frameborder=\"0\"\n",
       "            allowfullscreen\n",
       "            \n",
       "        ></iframe>\n",
       "        "
      ],
      "text/plain": [
       "<IPython.lib.display.IFrame at 0x29ba9a410>"
      ]
     },
     "metadata": {},
     "output_type": "display_data"
    },
    {
     "data": {
      "text/html": [
       "\n",
       "        <iframe\n",
       "            width=\"400\"\n",
       "            height=\"230\"\n",
       "            src=\"https://open.spotify.com/embed/track/4bpUxvEEH1Jb62Z1ik1dK4?frameborder=0&allowtransparency=true&allow=encrypted-media\"\n",
       "            frameborder=\"0\"\n",
       "            allowfullscreen\n",
       "            \n",
       "        ></iframe>\n",
       "        "
      ],
      "text/plain": [
       "<IPython.lib.display.IFrame at 0x29ba4d780>"
      ]
     },
     "metadata": {},
     "output_type": "display_data"
    },
    {
     "data": {
      "text/html": [
       "\n",
       "        <iframe\n",
       "            width=\"400\"\n",
       "            height=\"230\"\n",
       "            src=\"https://open.spotify.com/embed/track/4xdHI4eFNst0vTZuuKrWjr?frameborder=0&allowtransparency=true&allow=encrypted-media\"\n",
       "            frameborder=\"0\"\n",
       "            allowfullscreen\n",
       "            \n",
       "        ></iframe>\n",
       "        "
      ],
      "text/plain": [
       "<IPython.lib.display.IFrame at 0x29ba9a410>"
      ]
     },
     "metadata": {},
     "output_type": "display_data"
    },
    {
     "data": {
      "text/html": [
       "\n",
       "        <iframe\n",
       "            width=\"400\"\n",
       "            height=\"230\"\n",
       "            src=\"https://open.spotify.com/embed/track/5hnyJvgoWiQUYZttV4wXy6?frameborder=0&allowtransparency=true&allow=encrypted-media\"\n",
       "            frameborder=\"0\"\n",
       "            allowfullscreen\n",
       "            \n",
       "        ></iframe>\n",
       "        "
      ],
      "text/plain": [
       "<IPython.lib.display.IFrame at 0x29ba4d780>"
      ]
     },
     "metadata": {},
     "output_type": "display_data"
    },
    {
     "data": {
      "text/html": [
       "\n",
       "        <iframe\n",
       "            width=\"400\"\n",
       "            height=\"230\"\n",
       "            src=\"https://open.spotify.com/embed/track/3rEwGRmPVVudVjqdgv0tRR?frameborder=0&allowtransparency=true&allow=encrypted-media\"\n",
       "            frameborder=\"0\"\n",
       "            allowfullscreen\n",
       "            \n",
       "        ></iframe>\n",
       "        "
      ],
      "text/plain": [
       "<IPython.lib.display.IFrame at 0x29ba9a410>"
      ]
     },
     "metadata": {},
     "output_type": "display_data"
    },
    {
     "data": {
      "text/html": [
       "\n",
       "        <iframe\n",
       "            width=\"400\"\n",
       "            height=\"230\"\n",
       "            src=\"https://open.spotify.com/embed/track/414oiHLxFHpMZaRBN4obzp?frameborder=0&allowtransparency=true&allow=encrypted-media\"\n",
       "            frameborder=\"0\"\n",
       "            allowfullscreen\n",
       "            \n",
       "        ></iframe>\n",
       "        "
      ],
      "text/plain": [
       "<IPython.lib.display.IFrame at 0x29ba4d780>"
      ]
     },
     "metadata": {},
     "output_type": "display_data"
    },
    {
     "data": {
      "text/html": [
       "\n",
       "        <iframe\n",
       "            width=\"400\"\n",
       "            height=\"230\"\n",
       "            src=\"https://open.spotify.com/embed/track/6rjnRocdCULjLF61x2NR5e?frameborder=0&allowtransparency=true&allow=encrypted-media\"\n",
       "            frameborder=\"0\"\n",
       "            allowfullscreen\n",
       "            \n",
       "        ></iframe>\n",
       "        "
      ],
      "text/plain": [
       "<IPython.lib.display.IFrame at 0x29ba9a410>"
      ]
     },
     "metadata": {},
     "output_type": "display_data"
    },
    {
     "data": {
      "text/html": [
       "\n",
       "        <iframe\n",
       "            width=\"400\"\n",
       "            height=\"230\"\n",
       "            src=\"https://open.spotify.com/embed/track/4OgwXdylh75fHfwUzJTUqg?frameborder=0&allowtransparency=true&allow=encrypted-media\"\n",
       "            frameborder=\"0\"\n",
       "            allowfullscreen\n",
       "            \n",
       "        ></iframe>\n",
       "        "
      ],
      "text/plain": [
       "<IPython.lib.display.IFrame at 0x29ba4d780>"
      ]
     },
     "metadata": {},
     "output_type": "display_data"
    },
    {
     "data": {
      "text/html": [
       "\n",
       "        <iframe\n",
       "            width=\"400\"\n",
       "            height=\"230\"\n",
       "            src=\"https://open.spotify.com/embed/track/3lVde5ftOmctemmgdC8adO?frameborder=0&allowtransparency=true&allow=encrypted-media\"\n",
       "            frameborder=\"0\"\n",
       "            allowfullscreen\n",
       "            \n",
       "        ></iframe>\n",
       "        "
      ],
      "text/plain": [
       "<IPython.lib.display.IFrame at 0x29ba9a410>"
      ]
     },
     "metadata": {},
     "output_type": "display_data"
    },
    {
     "data": {
      "text/html": [
       "\n",
       "        <iframe\n",
       "            width=\"400\"\n",
       "            height=\"230\"\n",
       "            src=\"https://open.spotify.com/embed/track/3OHevW2cUT176DXWV0lHg9?frameborder=0&allowtransparency=true&allow=encrypted-media\"\n",
       "            frameborder=\"0\"\n",
       "            allowfullscreen\n",
       "            \n",
       "        ></iframe>\n",
       "        "
      ],
      "text/plain": [
       "<IPython.lib.display.IFrame at 0x29ba9a410>"
      ]
     },
     "metadata": {},
     "output_type": "display_data"
    },
    {
     "data": {
      "text/html": [
       "\n",
       "        <iframe\n",
       "            width=\"400\"\n",
       "            height=\"230\"\n",
       "            src=\"https://open.spotify.com/embed/track/22MbjVZzfVcf5o5fxkaFb3?frameborder=0&allowtransparency=true&allow=encrypted-media\"\n",
       "            frameborder=\"0\"\n",
       "            allowfullscreen\n",
       "            \n",
       "        ></iframe>\n",
       "        "
      ],
      "text/plain": [
       "<IPython.lib.display.IFrame at 0x29ba4d780>"
      ]
     },
     "metadata": {},
     "output_type": "display_data"
    },
    {
     "data": {
      "text/html": [
       "\n",
       "        <iframe\n",
       "            width=\"400\"\n",
       "            height=\"230\"\n",
       "            src=\"https://open.spotify.com/embed/track/3JO8ZHz8hF9R4XUd7sGE1N?frameborder=0&allowtransparency=true&allow=encrypted-media\"\n",
       "            frameborder=\"0\"\n",
       "            allowfullscreen\n",
       "            \n",
       "        ></iframe>\n",
       "        "
      ],
      "text/plain": [
       "<IPython.lib.display.IFrame at 0x29ba9a410>"
      ]
     },
     "metadata": {},
     "output_type": "display_data"
    },
    {
     "data": {
      "text/html": [
       "\n",
       "        <iframe\n",
       "            width=\"400\"\n",
       "            height=\"230\"\n",
       "            src=\"https://open.spotify.com/embed/track/4wBm4cfxyVu5TZgtuLMOUV?frameborder=0&allowtransparency=true&allow=encrypted-media\"\n",
       "            frameborder=\"0\"\n",
       "            allowfullscreen\n",
       "            \n",
       "        ></iframe>\n",
       "        "
      ],
      "text/plain": [
       "<IPython.lib.display.IFrame at 0x29ba9a410>"
      ]
     },
     "metadata": {},
     "output_type": "display_data"
    }
   ],
   "source": [
    "# Test \"all features\"\n",
    "\n",
    "# Import databases\n",
    "hot_tracks = pd.read_csv(\"/Users/janoskamke/Documents/GitHub/song_recommender/scraped_hot_tracks.csv\")\n",
    "\n",
    "# Initialize Spotify Connection\n",
    "initialize_spotify()\n",
    "\n",
    "# Get user input\n",
    "user_song, user_artist = get_user_input()\n",
    "\n",
    "# Get user AF\n",
    "user_af = af_user_input(user_song=user_song, user_artist=user_artist)\n",
    "\n",
    "# Get Recommendation\n",
    "models = [(\"kmeans_8\", \"kmeans_8.pickle\"), (\"kmeans_24\", \"kmeans_24.pickle\")]\n",
    "\n",
    "for model in models:\n",
    "    track_database = pd.read_csv(f\"/Users/janoskamke/Documents/GitHub/song_recommender/spotify_database_{model[0]}.csv\")\n",
    "    \n",
    "    print(f\"Recommendation based in mode: {model[1]}.\") \n",
    "    rec_playlist = song_playlist_recommender(user_song=user_song, hot_tracks=hot_tracks, database=track_database, model_file=model[1])\n",
    "\n",
    "    # Display Recommendation\n",
    "    print(\"You chose this song: \")\n",
    "\n",
    "    display(play_song(user_af[\"id\"][0]))\n",
    "\n",
    "    print(\"You might also like: \")\n",
    "\n",
    "    display(play_song(rec_playlist[0]))\n",
    "\n",
    "    print (\"Here is a complete playlist for you to check out. Have fun!\")\n",
    "\n",
    "    for song in (rec_playlist[1:]):\n",
    "        display(play_song(song))\n",
    "        time.sleep(1)"
   ]
  },
  {
   "cell_type": "code",
   "execution_count": 430,
   "id": "bf7aca36-95ed-49d7-ad35-e373cc7ece86",
   "metadata": {},
   "outputs": [
    {
     "name": "stdout",
     "output_type": "stream",
     "text": [
      "Please share a song and an artist you like, so we can give you a recommendation.\n"
     ]
    },
    {
     "name": "stdin",
     "output_type": "stream",
     "text": [
      "Please enter the song name:  complicated\n",
      "Please enter the artist's name:  avril lavigne\n"
     ]
    },
    {
     "name": "stdout",
     "output_type": "stream",
     "text": [
      "Recommendation based in mode: kmeans_19.pickle.\n",
      "You chose this song: \n"
     ]
    },
    {
     "name": "stderr",
     "output_type": "stream",
     "text": [
      "/opt/anaconda3/envs/bertopic_env/lib/python3.10/site-packages/sklearn/base.py:493: UserWarning: X does not have valid feature names, but KMeans was fitted with feature names\n",
      "  warnings.warn(\n"
     ]
    },
    {
     "data": {
      "text/html": [
       "\n",
       "        <iframe\n",
       "            width=\"400\"\n",
       "            height=\"230\"\n",
       "            src=\"https://open.spotify.com/embed/track/5xEM5hIgJ1jjgcEBfpkt2F?frameborder=0&allowtransparency=true&allow=encrypted-media\"\n",
       "            frameborder=\"0\"\n",
       "            allowfullscreen\n",
       "            \n",
       "        ></iframe>\n",
       "        "
      ],
      "text/plain": [
       "<IPython.lib.display.IFrame at 0x29df26a10>"
      ]
     },
     "metadata": {},
     "output_type": "display_data"
    },
    {
     "name": "stdout",
     "output_type": "stream",
     "text": [
      "You might also like: \n"
     ]
    },
    {
     "data": {
      "text/html": [
       "\n",
       "        <iframe\n",
       "            width=\"400\"\n",
       "            height=\"230\"\n",
       "            src=\"https://open.spotify.com/embed/track/6gwaa6ElIixNTvu6RwkMyo?frameborder=0&allowtransparency=true&allow=encrypted-media\"\n",
       "            frameborder=\"0\"\n",
       "            allowfullscreen\n",
       "            \n",
       "        ></iframe>\n",
       "        "
      ],
      "text/plain": [
       "<IPython.lib.display.IFrame at 0x29d719c30>"
      ]
     },
     "metadata": {},
     "output_type": "display_data"
    },
    {
     "name": "stdout",
     "output_type": "stream",
     "text": [
      "Here is a complete playlist for you to check out. Have fun!\n"
     ]
    },
    {
     "data": {
      "text/html": [
       "\n",
       "        <iframe\n",
       "            width=\"400\"\n",
       "            height=\"230\"\n",
       "            src=\"https://open.spotify.com/embed/track/4pextOBn0xoPnKf7qrDjWg?frameborder=0&allowtransparency=true&allow=encrypted-media\"\n",
       "            frameborder=\"0\"\n",
       "            allowfullscreen\n",
       "            \n",
       "        ></iframe>\n",
       "        "
      ],
      "text/plain": [
       "<IPython.lib.display.IFrame at 0x29f4f06d0>"
      ]
     },
     "metadata": {},
     "output_type": "display_data"
    },
    {
     "data": {
      "text/html": [
       "\n",
       "        <iframe\n",
       "            width=\"400\"\n",
       "            height=\"230\"\n",
       "            src=\"https://open.spotify.com/embed/track/5z6a02FGoVsXTrJ4GiVNxE?frameborder=0&allowtransparency=true&allow=encrypted-media\"\n",
       "            frameborder=\"0\"\n",
       "            allowfullscreen\n",
       "            \n",
       "        ></iframe>\n",
       "        "
      ],
      "text/plain": [
       "<IPython.lib.display.IFrame at 0x29d719c30>"
      ]
     },
     "metadata": {},
     "output_type": "display_data"
    },
    {
     "data": {
      "text/html": [
       "\n",
       "        <iframe\n",
       "            width=\"400\"\n",
       "            height=\"230\"\n",
       "            src=\"https://open.spotify.com/embed/track/23T0OX7QOiIUFShSzbJ5Uo?frameborder=0&allowtransparency=true&allow=encrypted-media\"\n",
       "            frameborder=\"0\"\n",
       "            allowfullscreen\n",
       "            \n",
       "        ></iframe>\n",
       "        "
      ],
      "text/plain": [
       "<IPython.lib.display.IFrame at 0x29df26a10>"
      ]
     },
     "metadata": {},
     "output_type": "display_data"
    },
    {
     "data": {
      "text/html": [
       "\n",
       "        <iframe\n",
       "            width=\"400\"\n",
       "            height=\"230\"\n",
       "            src=\"https://open.spotify.com/embed/track/62wtttQzoIA9HnNmGVd9Yq?frameborder=0&allowtransparency=true&allow=encrypted-media\"\n",
       "            frameborder=\"0\"\n",
       "            allowfullscreen\n",
       "            \n",
       "        ></iframe>\n",
       "        "
      ],
      "text/plain": [
       "<IPython.lib.display.IFrame at 0x29d719c30>"
      ]
     },
     "metadata": {},
     "output_type": "display_data"
    },
    {
     "data": {
      "text/html": [
       "\n",
       "        <iframe\n",
       "            width=\"400\"\n",
       "            height=\"230\"\n",
       "            src=\"https://open.spotify.com/embed/track/09EQqFGUTJW6X4NksMPM0O?frameborder=0&allowtransparency=true&allow=encrypted-media\"\n",
       "            frameborder=\"0\"\n",
       "            allowfullscreen\n",
       "            \n",
       "        ></iframe>\n",
       "        "
      ],
      "text/plain": [
       "<IPython.lib.display.IFrame at 0x29df26a10>"
      ]
     },
     "metadata": {},
     "output_type": "display_data"
    },
    {
     "data": {
      "text/html": [
       "\n",
       "        <iframe\n",
       "            width=\"400\"\n",
       "            height=\"230\"\n",
       "            src=\"https://open.spotify.com/embed/track/1OFKUn2VLafrHj7ybnap0Q?frameborder=0&allowtransparency=true&allow=encrypted-media\"\n",
       "            frameborder=\"0\"\n",
       "            allowfullscreen\n",
       "            \n",
       "        ></iframe>\n",
       "        "
      ],
      "text/plain": [
       "<IPython.lib.display.IFrame at 0x29d719c30>"
      ]
     },
     "metadata": {},
     "output_type": "display_data"
    },
    {
     "data": {
      "text/html": [
       "\n",
       "        <iframe\n",
       "            width=\"400\"\n",
       "            height=\"230\"\n",
       "            src=\"https://open.spotify.com/embed/track/3Jtn0oLAGr0KFA5J8CaT4C?frameborder=0&allowtransparency=true&allow=encrypted-media\"\n",
       "            frameborder=\"0\"\n",
       "            allowfullscreen\n",
       "            \n",
       "        ></iframe>\n",
       "        "
      ],
      "text/plain": [
       "<IPython.lib.display.IFrame at 0x29df26a10>"
      ]
     },
     "metadata": {},
     "output_type": "display_data"
    },
    {
     "data": {
      "text/html": [
       "\n",
       "        <iframe\n",
       "            width=\"400\"\n",
       "            height=\"230\"\n",
       "            src=\"https://open.spotify.com/embed/track/4UQDZlZhGUDoYMohwrY28v?frameborder=0&allowtransparency=true&allow=encrypted-media\"\n",
       "            frameborder=\"0\"\n",
       "            allowfullscreen\n",
       "            \n",
       "        ></iframe>\n",
       "        "
      ],
      "text/plain": [
       "<IPython.lib.display.IFrame at 0x29d719c30>"
      ]
     },
     "metadata": {},
     "output_type": "display_data"
    },
    {
     "data": {
      "text/html": [
       "\n",
       "        <iframe\n",
       "            width=\"400\"\n",
       "            height=\"230\"\n",
       "            src=\"https://open.spotify.com/embed/track/3pEmHEQg2RHcz2y06TQwcJ?frameborder=0&allowtransparency=true&allow=encrypted-media\"\n",
       "            frameborder=\"0\"\n",
       "            allowfullscreen\n",
       "            \n",
       "        ></iframe>\n",
       "        "
      ],
      "text/plain": [
       "<IPython.lib.display.IFrame at 0x29df26a10>"
      ]
     },
     "metadata": {},
     "output_type": "display_data"
    },
    {
     "data": {
      "text/html": [
       "\n",
       "        <iframe\n",
       "            width=\"400\"\n",
       "            height=\"230\"\n",
       "            src=\"https://open.spotify.com/embed/track/43GS3mtezoIFiuIZCLLiDY?frameborder=0&allowtransparency=true&allow=encrypted-media\"\n",
       "            frameborder=\"0\"\n",
       "            allowfullscreen\n",
       "            \n",
       "        ></iframe>\n",
       "        "
      ],
      "text/plain": [
       "<IPython.lib.display.IFrame at 0x29d719c30>"
      ]
     },
     "metadata": {},
     "output_type": "display_data"
    },
    {
     "data": {
      "text/html": [
       "\n",
       "        <iframe\n",
       "            width=\"400\"\n",
       "            height=\"230\"\n",
       "            src=\"https://open.spotify.com/embed/track/6eT7xZZlB2mwyzJ2sUKG6w?frameborder=0&allowtransparency=true&allow=encrypted-media\"\n",
       "            frameborder=\"0\"\n",
       "            allowfullscreen\n",
       "            \n",
       "        ></iframe>\n",
       "        "
      ],
      "text/plain": [
       "<IPython.lib.display.IFrame at 0x29df26a10>"
      ]
     },
     "metadata": {},
     "output_type": "display_data"
    },
    {
     "data": {
      "text/html": [
       "\n",
       "        <iframe\n",
       "            width=\"400\"\n",
       "            height=\"230\"\n",
       "            src=\"https://open.spotify.com/embed/track/7eXFZCiP9GqdMUashk96UF?frameborder=0&allowtransparency=true&allow=encrypted-media\"\n",
       "            frameborder=\"0\"\n",
       "            allowfullscreen\n",
       "            \n",
       "        ></iframe>\n",
       "        "
      ],
      "text/plain": [
       "<IPython.lib.display.IFrame at 0x29d719c30>"
      ]
     },
     "metadata": {},
     "output_type": "display_data"
    },
    {
     "data": {
      "text/html": [
       "\n",
       "        <iframe\n",
       "            width=\"400\"\n",
       "            height=\"230\"\n",
       "            src=\"https://open.spotify.com/embed/track/32F0zqsDgqpIEYApk2b8sr?frameborder=0&allowtransparency=true&allow=encrypted-media\"\n",
       "            frameborder=\"0\"\n",
       "            allowfullscreen\n",
       "            \n",
       "        ></iframe>\n",
       "        "
      ],
      "text/plain": [
       "<IPython.lib.display.IFrame at 0x29df26a10>"
      ]
     },
     "metadata": {},
     "output_type": "display_data"
    },
    {
     "data": {
      "text/html": [
       "\n",
       "        <iframe\n",
       "            width=\"400\"\n",
       "            height=\"230\"\n",
       "            src=\"https://open.spotify.com/embed/track/2sq6zVcw0zr5go8ZqaUdUF?frameborder=0&allowtransparency=true&allow=encrypted-media\"\n",
       "            frameborder=\"0\"\n",
       "            allowfullscreen\n",
       "            \n",
       "        ></iframe>\n",
       "        "
      ],
      "text/plain": [
       "<IPython.lib.display.IFrame at 0x29d719c30>"
      ]
     },
     "metadata": {},
     "output_type": "display_data"
    },
    {
     "name": "stdout",
     "output_type": "stream",
     "text": [
      "Recommendation based in mode: kmeans_26.pickle.\n",
      "You chose this song: \n"
     ]
    },
    {
     "name": "stderr",
     "output_type": "stream",
     "text": [
      "/opt/anaconda3/envs/bertopic_env/lib/python3.10/site-packages/sklearn/base.py:493: UserWarning: X does not have valid feature names, but KMeans was fitted with feature names\n",
      "  warnings.warn(\n"
     ]
    },
    {
     "data": {
      "text/html": [
       "\n",
       "        <iframe\n",
       "            width=\"400\"\n",
       "            height=\"230\"\n",
       "            src=\"https://open.spotify.com/embed/track/5xEM5hIgJ1jjgcEBfpkt2F?frameborder=0&allowtransparency=true&allow=encrypted-media\"\n",
       "            frameborder=\"0\"\n",
       "            allowfullscreen\n",
       "            \n",
       "        ></iframe>\n",
       "        "
      ],
      "text/plain": [
       "<IPython.lib.display.IFrame at 0x29ba4c040>"
      ]
     },
     "metadata": {},
     "output_type": "display_data"
    },
    {
     "name": "stdout",
     "output_type": "stream",
     "text": [
      "You might also like: \n"
     ]
    },
    {
     "data": {
      "text/html": [
       "\n",
       "        <iframe\n",
       "            width=\"400\"\n",
       "            height=\"230\"\n",
       "            src=\"https://open.spotify.com/embed/track/74tXc7WOWxEDZahXcyPG9D?frameborder=0&allowtransparency=true&allow=encrypted-media\"\n",
       "            frameborder=\"0\"\n",
       "            allowfullscreen\n",
       "            \n",
       "        ></iframe>\n",
       "        "
      ],
      "text/plain": [
       "<IPython.lib.display.IFrame at 0x29ba4da20>"
      ]
     },
     "metadata": {},
     "output_type": "display_data"
    },
    {
     "name": "stdout",
     "output_type": "stream",
     "text": [
      "Here is a complete playlist for you to check out. Have fun!\n"
     ]
    },
    {
     "data": {
      "text/html": [
       "\n",
       "        <iframe\n",
       "            width=\"400\"\n",
       "            height=\"230\"\n",
       "            src=\"https://open.spotify.com/embed/track/7lLtUEHB8WbrlwFrot8zG5?frameborder=0&allowtransparency=true&allow=encrypted-media\"\n",
       "            frameborder=\"0\"\n",
       "            allowfullscreen\n",
       "            \n",
       "        ></iframe>\n",
       "        "
      ],
      "text/plain": [
       "<IPython.lib.display.IFrame at 0x29ee6cbb0>"
      ]
     },
     "metadata": {},
     "output_type": "display_data"
    },
    {
     "data": {
      "text/html": [
       "\n",
       "        <iframe\n",
       "            width=\"400\"\n",
       "            height=\"230\"\n",
       "            src=\"https://open.spotify.com/embed/track/3HGl1W0VK9XcB3O6EvYigl?frameborder=0&allowtransparency=true&allow=encrypted-media\"\n",
       "            frameborder=\"0\"\n",
       "            allowfullscreen\n",
       "            \n",
       "        ></iframe>\n",
       "        "
      ],
      "text/plain": [
       "<IPython.lib.display.IFrame at 0x29b4c8a00>"
      ]
     },
     "metadata": {},
     "output_type": "display_data"
    },
    {
     "data": {
      "text/html": [
       "\n",
       "        <iframe\n",
       "            width=\"400\"\n",
       "            height=\"230\"\n",
       "            src=\"https://open.spotify.com/embed/track/2pAho4WqtK5hQtgImHzT74?frameborder=0&allowtransparency=true&allow=encrypted-media\"\n",
       "            frameborder=\"0\"\n",
       "            allowfullscreen\n",
       "            \n",
       "        ></iframe>\n",
       "        "
      ],
      "text/plain": [
       "<IPython.lib.display.IFrame at 0x29ba4da20>"
      ]
     },
     "metadata": {},
     "output_type": "display_data"
    },
    {
     "data": {
      "text/html": [
       "\n",
       "        <iframe\n",
       "            width=\"400\"\n",
       "            height=\"230\"\n",
       "            src=\"https://open.spotify.com/embed/track/3RMeOetCdXttthQK0clPuz?frameborder=0&allowtransparency=true&allow=encrypted-media\"\n",
       "            frameborder=\"0\"\n",
       "            allowfullscreen\n",
       "            \n",
       "        ></iframe>\n",
       "        "
      ],
      "text/plain": [
       "<IPython.lib.display.IFrame at 0x29df26a10>"
      ]
     },
     "metadata": {},
     "output_type": "display_data"
    },
    {
     "data": {
      "text/html": [
       "\n",
       "        <iframe\n",
       "            width=\"400\"\n",
       "            height=\"230\"\n",
       "            src=\"https://open.spotify.com/embed/track/5lcyIeEfwZTs8Ajw3kdF7P?frameborder=0&allowtransparency=true&allow=encrypted-media\"\n",
       "            frameborder=\"0\"\n",
       "            allowfullscreen\n",
       "            \n",
       "        ></iframe>\n",
       "        "
      ],
      "text/plain": [
       "<IPython.lib.display.IFrame at 0x29b4c8a00>"
      ]
     },
     "metadata": {},
     "output_type": "display_data"
    },
    {
     "data": {
      "text/html": [
       "\n",
       "        <iframe\n",
       "            width=\"400\"\n",
       "            height=\"230\"\n",
       "            src=\"https://open.spotify.com/embed/track/2OIVxvKa7XYSiZO7IYyIK5?frameborder=0&allowtransparency=true&allow=encrypted-media\"\n",
       "            frameborder=\"0\"\n",
       "            allowfullscreen\n",
       "            \n",
       "        ></iframe>\n",
       "        "
      ],
      "text/plain": [
       "<IPython.lib.display.IFrame at 0x29ba4da20>"
      ]
     },
     "metadata": {},
     "output_type": "display_data"
    },
    {
     "data": {
      "text/html": [
       "\n",
       "        <iframe\n",
       "            width=\"400\"\n",
       "            height=\"230\"\n",
       "            src=\"https://open.spotify.com/embed/track/2kx128smVFrD3mEzyYpfU8?frameborder=0&allowtransparency=true&allow=encrypted-media\"\n",
       "            frameborder=\"0\"\n",
       "            allowfullscreen\n",
       "            \n",
       "        ></iframe>\n",
       "        "
      ],
      "text/plain": [
       "<IPython.lib.display.IFrame at 0x29df26a10>"
      ]
     },
     "metadata": {},
     "output_type": "display_data"
    },
    {
     "data": {
      "text/html": [
       "\n",
       "        <iframe\n",
       "            width=\"400\"\n",
       "            height=\"230\"\n",
       "            src=\"https://open.spotify.com/embed/track/4Dti5pdX9AQdFLkxNPvHHA?frameborder=0&allowtransparency=true&allow=encrypted-media\"\n",
       "            frameborder=\"0\"\n",
       "            allowfullscreen\n",
       "            \n",
       "        ></iframe>\n",
       "        "
      ],
      "text/plain": [
       "<IPython.lib.display.IFrame at 0x29b4c8a00>"
      ]
     },
     "metadata": {},
     "output_type": "display_data"
    },
    {
     "data": {
      "text/html": [
       "\n",
       "        <iframe\n",
       "            width=\"400\"\n",
       "            height=\"230\"\n",
       "            src=\"https://open.spotify.com/embed/track/4ywWJqYKOwaVVh9xXARWUS?frameborder=0&allowtransparency=true&allow=encrypted-media\"\n",
       "            frameborder=\"0\"\n",
       "            allowfullscreen\n",
       "            \n",
       "        ></iframe>\n",
       "        "
      ],
      "text/plain": [
       "<IPython.lib.display.IFrame at 0x29ba4da20>"
      ]
     },
     "metadata": {},
     "output_type": "display_data"
    },
    {
     "data": {
      "text/html": [
       "\n",
       "        <iframe\n",
       "            width=\"400\"\n",
       "            height=\"230\"\n",
       "            src=\"https://open.spotify.com/embed/track/18asVg1bbkhE0ceWdaypTp?frameborder=0&allowtransparency=true&allow=encrypted-media\"\n",
       "            frameborder=\"0\"\n",
       "            allowfullscreen\n",
       "            \n",
       "        ></iframe>\n",
       "        "
      ],
      "text/plain": [
       "<IPython.lib.display.IFrame at 0x29df26a10>"
      ]
     },
     "metadata": {},
     "output_type": "display_data"
    },
    {
     "data": {
      "text/html": [
       "\n",
       "        <iframe\n",
       "            width=\"400\"\n",
       "            height=\"230\"\n",
       "            src=\"https://open.spotify.com/embed/track/7Hle5ryHW10GCpkE8pxlpx?frameborder=0&allowtransparency=true&allow=encrypted-media\"\n",
       "            frameborder=\"0\"\n",
       "            allowfullscreen\n",
       "            \n",
       "        ></iframe>\n",
       "        "
      ],
      "text/plain": [
       "<IPython.lib.display.IFrame at 0x29b4c8a00>"
      ]
     },
     "metadata": {},
     "output_type": "display_data"
    },
    {
     "data": {
      "text/html": [
       "\n",
       "        <iframe\n",
       "            width=\"400\"\n",
       "            height=\"230\"\n",
       "            src=\"https://open.spotify.com/embed/track/01iiEi9h8CQGUN2K1xBbTj?frameborder=0&allowtransparency=true&allow=encrypted-media\"\n",
       "            frameborder=\"0\"\n",
       "            allowfullscreen\n",
       "            \n",
       "        ></iframe>\n",
       "        "
      ],
      "text/plain": [
       "<IPython.lib.display.IFrame at 0x29ba4c040>"
      ]
     },
     "metadata": {},
     "output_type": "display_data"
    },
    {
     "data": {
      "text/html": [
       "\n",
       "        <iframe\n",
       "            width=\"400\"\n",
       "            height=\"230\"\n",
       "            src=\"https://open.spotify.com/embed/track/7lnKSkUtzscxJkR6yiOcyK?frameborder=0&allowtransparency=true&allow=encrypted-media\"\n",
       "            frameborder=\"0\"\n",
       "            allowfullscreen\n",
       "            \n",
       "        ></iframe>\n",
       "        "
      ],
      "text/plain": [
       "<IPython.lib.display.IFrame at 0x29df26a10>"
      ]
     },
     "metadata": {},
     "output_type": "display_data"
    },
    {
     "data": {
      "text/html": [
       "\n",
       "        <iframe\n",
       "            width=\"400\"\n",
       "            height=\"230\"\n",
       "            src=\"https://open.spotify.com/embed/track/0I4Elttuzf6NXvUYDpCXIx?frameborder=0&allowtransparency=true&allow=encrypted-media\"\n",
       "            frameborder=\"0\"\n",
       "            allowfullscreen\n",
       "            \n",
       "        ></iframe>\n",
       "        "
      ],
      "text/plain": [
       "<IPython.lib.display.IFrame at 0x29df26a10>"
      ]
     },
     "metadata": {},
     "output_type": "display_data"
    }
   ],
   "source": [
    "# Test \"less features\"\n",
    "\n",
    "# Import databases\n",
    "hot_tracks = pd.read_csv(\"/Users/janoskamke/Documents/GitHub/song_recommender/scraped_hot_tracks.csv\")\n",
    "track_database = pd.read_csv(\"/Users/janoskamke/Documents/GitHub/song_recommender/spotify_database.csv\")\n",
    "\n",
    "# Initialize Spotify Connection\n",
    "initialize_spotify()\n",
    "\n",
    "# Get user input\n",
    "user_song, user_artist = get_user_input()\n",
    "\n",
    "# Get user AF\n",
    "user_af = af_user_input(user_song=user_song, user_artist=user_artist)\n",
    "\n",
    "# Get Recommendation\n",
    "models = [(\"kmeans_19\", \"kmeans_19.pickle\"), (\"kmeans_26\", \"kmeans_26.pickle\"), ]\n",
    "\n",
    "for model in models:\n",
    "    track_database = pd.read_csv(f\"/Users/janoskamke/Documents/GitHub/song_recommender/spotify_database_{model[0]}.csv\")\n",
    "\n",
    "    print(f\"Recommendation based in mode: {model[1]}.\")\n",
    "    \n",
    "    rec_playlist = song_playlist_recommender_alt(user_song=user_song, hot_tracks=hot_tracks, database=track_database, model_file=model[1])\n",
    "\n",
    "    # Display Recommendation\n",
    "    print(\"You chose this song: \")\n",
    "\n",
    "    display(play_song(user_af[\"id\"][0]))\n",
    "\n",
    "    print(\"You might also like: \")\n",
    "\n",
    "    display(play_song(rec_playlist[0]))\n",
    "\n",
    "    print (\"Here is a complete playlist for you to check out. Have fun!\")\n",
    "\n",
    "    for song in (rec_playlist[1:]):\n",
    "        display(play_song(song))\n",
    "        time.sleep(1)"
   ]
  },
  {
   "cell_type": "markdown",
   "id": "4feedb01-9bfa-423c-b7bd-ccb702bc8cf5",
   "metadata": {},
   "source": [
    "### Streamlit"
   ]
  },
  {
   "cell_type": "code",
   "execution_count": 432,
   "id": "a77888c0-cc49-4c9b-98ad-00f1fc430184",
   "metadata": {
    "scrolled": true
   },
   "outputs": [
    {
     "name": "stdout",
     "output_type": "stream",
     "text": [
      "Collecting streamlit\n",
      "  Using cached streamlit-1.40.1-py2.py3-none-any.whl.metadata (8.5 kB)\n",
      "Collecting altair<6,>=4.0 (from streamlit)\n",
      "  Using cached altair-5.4.1-py3-none-any.whl.metadata (9.4 kB)\n",
      "Collecting blinker<2,>=1.0.0 (from streamlit)\n",
      "  Using cached blinker-1.9.0-py3-none-any.whl.metadata (1.6 kB)\n",
      "Collecting cachetools<6,>=4.0 (from streamlit)\n",
      "  Using cached cachetools-5.5.0-py3-none-any.whl.metadata (5.3 kB)\n",
      "Collecting click<9,>=7.0 (from streamlit)\n",
      "  Using cached click-8.1.7-py3-none-any.whl.metadata (3.0 kB)\n",
      "Requirement already satisfied: numpy<3,>=1.20 in /opt/anaconda3/envs/bertopic_env/lib/python3.10/site-packages (from streamlit) (1.24.0)\n",
      "Requirement already satisfied: packaging<25,>=20 in /opt/anaconda3/envs/bertopic_env/lib/python3.10/site-packages (from streamlit) (24.1)\n",
      "Requirement already satisfied: pandas<3,>=1.4.0 in /opt/anaconda3/envs/bertopic_env/lib/python3.10/site-packages (from streamlit) (2.2.3)\n",
      "Requirement already satisfied: pillow<12,>=7.1.0 in /opt/anaconda3/envs/bertopic_env/lib/python3.10/site-packages (from streamlit) (11.0.0)\n",
      "Collecting protobuf<6,>=3.20 (from streamlit)\n",
      "  Using cached protobuf-5.28.3-cp38-abi3-macosx_10_9_universal2.whl.metadata (592 bytes)\n",
      "Collecting pyarrow>=7.0 (from streamlit)\n",
      "  Using cached pyarrow-18.0.0-cp310-cp310-macosx_12_0_arm64.whl.metadata (3.3 kB)\n",
      "Requirement already satisfied: requests<3,>=2.27 in /opt/anaconda3/envs/bertopic_env/lib/python3.10/site-packages (from streamlit) (2.32.3)\n",
      "Collecting rich<14,>=10.14.0 (from streamlit)\n",
      "  Using cached rich-13.9.4-py3-none-any.whl.metadata (18 kB)\n",
      "Requirement already satisfied: tenacity<10,>=8.1.0 in /opt/anaconda3/envs/bertopic_env/lib/python3.10/site-packages (from streamlit) (9.0.0)\n",
      "Collecting toml<2,>=0.10.1 (from streamlit)\n",
      "  Using cached toml-0.10.2-py2.py3-none-any.whl.metadata (7.1 kB)\n",
      "Requirement already satisfied: typing-extensions<5,>=4.3.0 in /opt/anaconda3/envs/bertopic_env/lib/python3.10/site-packages (from streamlit) (4.11.0)\n",
      "Collecting gitpython!=3.1.19,<4,>=3.0.7 (from streamlit)\n",
      "  Using cached GitPython-3.1.43-py3-none-any.whl.metadata (13 kB)\n",
      "Collecting pydeck<1,>=0.8.0b4 (from streamlit)\n",
      "  Using cached pydeck-0.9.1-py2.py3-none-any.whl.metadata (4.1 kB)\n",
      "Requirement already satisfied: tornado<7,>=6.0.3 in /opt/anaconda3/envs/bertopic_env/lib/python3.10/site-packages (from streamlit) (6.4.1)\n",
      "Requirement already satisfied: jinja2 in /opt/anaconda3/envs/bertopic_env/lib/python3.10/site-packages (from altair<6,>=4.0->streamlit) (3.1.4)\n",
      "Requirement already satisfied: jsonschema>=3.0 in /opt/anaconda3/envs/bertopic_env/lib/python3.10/site-packages (from altair<6,>=4.0->streamlit) (4.23.0)\n",
      "Collecting narwhals>=1.5.2 (from altair<6,>=4.0->streamlit)\n",
      "  Downloading narwhals-1.14.1-py3-none-any.whl.metadata (7.4 kB)\n",
      "Collecting gitdb<5,>=4.0.1 (from gitpython!=3.1.19,<4,>=3.0.7->streamlit)\n",
      "  Using cached gitdb-4.0.11-py3-none-any.whl.metadata (1.2 kB)\n",
      "Requirement already satisfied: python-dateutil>=2.8.2 in /opt/anaconda3/envs/bertopic_env/lib/python3.10/site-packages (from pandas<3,>=1.4.0->streamlit) (2.9.0.post0)\n",
      "Requirement already satisfied: pytz>=2020.1 in /opt/anaconda3/envs/bertopic_env/lib/python3.10/site-packages (from pandas<3,>=1.4.0->streamlit) (2024.1)\n",
      "Requirement already satisfied: tzdata>=2022.7 in /opt/anaconda3/envs/bertopic_env/lib/python3.10/site-packages (from pandas<3,>=1.4.0->streamlit) (2024.2)\n",
      "Requirement already satisfied: charset-normalizer<4,>=2 in /opt/anaconda3/envs/bertopic_env/lib/python3.10/site-packages (from requests<3,>=2.27->streamlit) (3.3.2)\n",
      "Requirement already satisfied: idna<4,>=2.5 in /opt/anaconda3/envs/bertopic_env/lib/python3.10/site-packages (from requests<3,>=2.27->streamlit) (3.7)\n",
      "Requirement already satisfied: urllib3<3,>=1.21.1 in /opt/anaconda3/envs/bertopic_env/lib/python3.10/site-packages (from requests<3,>=2.27->streamlit) (2.2.3)\n",
      "Requirement already satisfied: certifi>=2017.4.17 in /opt/anaconda3/envs/bertopic_env/lib/python3.10/site-packages (from requests<3,>=2.27->streamlit) (2024.8.30)\n",
      "Collecting markdown-it-py>=2.2.0 (from rich<14,>=10.14.0->streamlit)\n",
      "  Using cached markdown_it_py-3.0.0-py3-none-any.whl.metadata (6.9 kB)\n",
      "Requirement already satisfied: pygments<3.0.0,>=2.13.0 in /opt/anaconda3/envs/bertopic_env/lib/python3.10/site-packages (from rich<14,>=10.14.0->streamlit) (2.15.1)\n",
      "Collecting smmap<6,>=3.0.1 (from gitdb<5,>=4.0.1->gitpython!=3.1.19,<4,>=3.0.7->streamlit)\n",
      "  Using cached smmap-5.0.1-py3-none-any.whl.metadata (4.3 kB)\n",
      "Requirement already satisfied: MarkupSafe>=2.0 in /opt/anaconda3/envs/bertopic_env/lib/python3.10/site-packages (from jinja2->altair<6,>=4.0->streamlit) (2.1.3)\n",
      "Requirement already satisfied: attrs>=22.2.0 in /opt/anaconda3/envs/bertopic_env/lib/python3.10/site-packages (from jsonschema>=3.0->altair<6,>=4.0->streamlit) (24.2.0)\n",
      "Requirement already satisfied: jsonschema-specifications>=2023.03.6 in /opt/anaconda3/envs/bertopic_env/lib/python3.10/site-packages (from jsonschema>=3.0->altair<6,>=4.0->streamlit) (2023.7.1)\n",
      "Requirement already satisfied: referencing>=0.28.4 in /opt/anaconda3/envs/bertopic_env/lib/python3.10/site-packages (from jsonschema>=3.0->altair<6,>=4.0->streamlit) (0.30.2)\n",
      "Requirement already satisfied: rpds-py>=0.7.1 in /opt/anaconda3/envs/bertopic_env/lib/python3.10/site-packages (from jsonschema>=3.0->altair<6,>=4.0->streamlit) (0.10.6)\n",
      "Collecting mdurl~=0.1 (from markdown-it-py>=2.2.0->rich<14,>=10.14.0->streamlit)\n",
      "  Using cached mdurl-0.1.2-py3-none-any.whl.metadata (1.6 kB)\n",
      "Requirement already satisfied: six>=1.5 in /opt/anaconda3/envs/bertopic_env/lib/python3.10/site-packages (from python-dateutil>=2.8.2->pandas<3,>=1.4.0->streamlit) (1.16.0)\n",
      "Using cached streamlit-1.40.1-py2.py3-none-any.whl (8.6 MB)\n",
      "Using cached altair-5.4.1-py3-none-any.whl (658 kB)\n",
      "Using cached blinker-1.9.0-py3-none-any.whl (8.5 kB)\n",
      "Using cached cachetools-5.5.0-py3-none-any.whl (9.5 kB)\n",
      "Using cached click-8.1.7-py3-none-any.whl (97 kB)\n",
      "Using cached GitPython-3.1.43-py3-none-any.whl (207 kB)\n",
      "Using cached protobuf-5.28.3-cp38-abi3-macosx_10_9_universal2.whl (414 kB)\n",
      "Using cached pyarrow-18.0.0-cp310-cp310-macosx_12_0_arm64.whl (29.5 MB)\n",
      "Using cached pydeck-0.9.1-py2.py3-none-any.whl (6.9 MB)\n",
      "Using cached rich-13.9.4-py3-none-any.whl (242 kB)\n",
      "Using cached toml-0.10.2-py2.py3-none-any.whl (16 kB)\n",
      "Using cached gitdb-4.0.11-py3-none-any.whl (62 kB)\n",
      "Using cached markdown_it_py-3.0.0-py3-none-any.whl (87 kB)\n",
      "Downloading narwhals-1.14.1-py3-none-any.whl (220 kB)\n",
      "Using cached mdurl-0.1.2-py3-none-any.whl (10.0 kB)\n",
      "Using cached smmap-5.0.1-py3-none-any.whl (24 kB)\n",
      "Installing collected packages: toml, smmap, pyarrow, protobuf, narwhals, mdurl, click, cachetools, blinker, pydeck, markdown-it-py, gitdb, rich, gitpython, altair, streamlit\n",
      "Successfully installed altair-5.4.1 blinker-1.9.0 cachetools-5.5.0 click-8.1.7 gitdb-4.0.11 gitpython-3.1.43 markdown-it-py-3.0.0 mdurl-0.1.2 narwhals-1.14.1 protobuf-5.28.3 pyarrow-18.0.0 pydeck-0.9.1 rich-13.9.4 smmap-5.0.1 streamlit-1.40.1 toml-0.10.2\n",
      "Note: you may need to restart the kernel to use updated packages.\n"
     ]
    }
   ],
   "source": [
    "pip install streamlit"
   ]
  },
  {
   "cell_type": "code",
   "execution_count": null,
   "id": "aa4927ad-9e6e-4093-b194-17e910604206",
   "metadata": {},
   "outputs": [],
   "source": [
    "from IPython.display import IFrame\n",
    "import random\n",
    "import pandas as pd\n",
    "import pickle\n",
    "import requests\n",
    "import pandas as pd\n",
    "import numpy\n",
    "from config import client_secret, client_id\n",
    "import spotipy\n",
    "import json\n",
    "from spotipy.oauth2 import SpotifyClientCredentials\n",
    "\n",
    "\n",
    "@st.cache_data\n",
    "def load_data():\n",
    "    \"\"\"\n",
    "    Load and cache the hot_tracks and track_database data.\n",
    "    \"\"\"\n",
    "    hot_tracks = pd.read_csv(\"scraped_hot_tracks.csv\")\n",
    "    track_database = pd.read_csv(\"spotify_database.csv\")\n",
    "    return hot_tracks, track_database\n",
    "\n",
    "def af_user_input(user_song, user_artist):\n",
    "    result = sp.search(q=f'{user_song} {user_artist}')\n",
    "    user_id = result[\"tracks\"][\"items\"][0][\"id\"]\n",
    "    user_af = sp.audio_features(user_id)\n",
    "    return pd.DataFrame(user_af)\n",
    "\n",
    "def initialize_spotify():\n",
    "    sp = spotipy.Spotify(auth_manager=SpotifyClientCredentials(client_id=client_id,\n",
    "                                                           client_secret=client_secret))\n",
    "\n",
    "def load_model(filename = \"kmeans_8.pickle\"): \n",
    "    try: \n",
    "        with open(filename, \"rb\") as f: \n",
    "            return pickle.load(f) \n",
    "        \n",
    "    except FileNotFoundError: \n",
    "        print(\"File not found!\")\n",
    "\n",
    "def load_scaler(filename = \"scaler.pickle\"): \n",
    "    try: \n",
    "        with open(filename, \"rb\") as f: \n",
    "            return pickle.load(f) \n",
    "        \n",
    "    except FileNotFoundError: \n",
    "        print(\"File not found!\")\n",
    "\n",
    "def get_user_input():\n",
    "    print(\"Please share a song and an artist you like, so we can give you a recommendation.\")\n",
    "    user_song = input(\"Please enter the song name: \").strip()\n",
    "    user_artist = input(\"Please enter the artist's name: \").strip()\n",
    "    return user_song, user_artist\n",
    "\n",
    "\n",
    "def song_playlist_recommender(user_song, hot_tracks, database):\n",
    "    if user_song.lower() in [song.lower() for song in list(hot_tracks[\"song\"])]:\n",
    "        rec_track = random.choice(list(hot_tracks[hot_tracks[\"song\"]!= user_song][\"id\"]))\n",
    "    else:\n",
    "        model = load_model(filename = \"kmeans_26.pickle\")\n",
    "        scaler = load_scaler(filename = \"scaler_alt.pickle\")\n",
    "        user_af_norm = scaler.transform(user_af.drop(columns = [\"type\", \"id\", \"uri\", \"track_href\", \"analysis_url\", \n",
    "                                                                \"duration_ms\", \"time_signature\", \"liveness\", \"loudness\", \"speechiness\"]))\n",
    "        rec_track_cluster = model.predict(user_af_norm)[0]\n",
    "        rec_playlist = random.sample(list(database[(database[\"id\"] != user_af[\"id\"][0]) & (database[\"cluster\"] == rec_track_cluster)][\"id\"]), 15)\n",
    "    return rec_playlist\n",
    "\n",
    "def play_song(track_id):\n",
    "    return IFrame(src=\"https://open.spotify.com/embed/track/\"+track_id,\n",
    "       width=\"400\",\n",
    "       height=\"230\",\n",
    "       frameborder=\"0\",\n",
    "       allowtransparency=\"true\",\n",
    "       allow=\"encrypted-media\",\n",
    "      )\n",
    "\n",
    "\n",
    "# Import databases\n",
    "hot_tracks, track_database = load_data()\n",
    "\n",
    "# Initialize Spotify Connection\n",
    "initialize_spotify()\n",
    "\n",
    "# Get user input\n",
    "user_song, user_artist = get_user_input()\n",
    "\n",
    "# Get user AF\n",
    "user_af = af_user_input(user_song=user_song, user_artist=user_artist)\n",
    "\n",
    "# Get Recommendation\n",
    "rec_playlist = song_playlist_recommender(user_song=user_song, hot_tracks=hot_tracks, database=track_database)\n",
    "\n",
    "# Display Recommendation\n",
    "print(\"You chose this song: \")\n",
    "\n",
    "display(play_song(user_af[\"id\"][0]))\n",
    "\n",
    "print(\"You might also like: \")\n",
    "\n",
    "display(play_song(rec_playlist[0]))\n",
    "\n",
    "print (\"Here is a complete playlist for you to check out. Have fun!\")\n",
    "\n",
    "for song in (rec_playlist[1:]):\n",
    "    display(play_song(song))\n",
    "    time.sleep(1)"
   ]
  },
  {
   "cell_type": "code",
   "execution_count": null,
   "id": "f4b62fb8-1fe7-4f5d-b17f-1d18b70cb12e",
   "metadata": {},
   "outputs": [],
   "source": []
  },
  {
   "cell_type": "code",
   "execution_count": null,
   "id": "b032b11f-26dd-41f4-ac0b-03b231772e34",
   "metadata": {},
   "outputs": [],
   "source": []
  }
 ],
 "metadata": {
  "kernelspec": {
   "display_name": "Python 3 (ipykernel)",
   "language": "python",
   "name": "python3"
  },
  "language_info": {
   "codemirror_mode": {
    "name": "ipython",
    "version": 3
   },
   "file_extension": ".py",
   "mimetype": "text/x-python",
   "name": "python",
   "nbconvert_exporter": "python",
   "pygments_lexer": "ipython3",
   "version": "3.10.15"
  }
 },
 "nbformat": 4,
 "nbformat_minor": 5
}
